{
 "cells": [
  {
   "cell_type": "markdown",
   "metadata": {},
   "source": [
    "# dfencoder Demo: Census Dataset\n",
    "This is a demonstration of the dfencoder library. We will use the [adult census dataset](https://archive.ics.uci.edu/ml/datasets/adult) for this demo."
   ]
  },
  {
   "cell_type": "code",
   "execution_count": 1,
   "metadata": {},
   "outputs": [],
   "source": [
    "#these are our libraries\n",
    "from dfencoder import AutoEncoder\n",
    "import pandas as pd\n",
    "\n",
    "#and, for pretty visualiations...\n",
    "import matplotlib.pyplot as plt\n",
    "import seaborn as sns\n",
    "\n",
    "sns.set()\n",
    "%config InlineBackend.figure_format = 'retina'"
   ]
  },
  {
   "cell_type": "markdown",
   "metadata": {},
   "source": [
    "# About the Data\n",
    "This dataset contains information about 32,561 adults (in the training set), with a number of features.<br><br>\n",
    "Traditionally, the target variable is \"salary,\" a binary feature with \"<50k\" and \">=50k\" as its two values. For this now, we'll treat this column as we do all the others."
   ]
  },
  {
   "cell_type": "code",
   "execution_count": 2,
   "metadata": {},
   "outputs": [
    {
     "data": {
      "text/html": [
       "<div>\n",
       "<style scoped>\n",
       "    .dataframe tbody tr th:only-of-type {\n",
       "        vertical-align: middle;\n",
       "    }\n",
       "\n",
       "    .dataframe tbody tr th {\n",
       "        vertical-align: top;\n",
       "    }\n",
       "\n",
       "    .dataframe thead th {\n",
       "        text-align: right;\n",
       "    }\n",
       "</style>\n",
       "<table border=\"1\" class=\"dataframe\">\n",
       "  <thead>\n",
       "    <tr style=\"text-align: right;\">\n",
       "      <th></th>\n",
       "      <th>age</th>\n",
       "      <th>workclass</th>\n",
       "      <th>fnlwgt</th>\n",
       "      <th>education</th>\n",
       "      <th>education-num</th>\n",
       "      <th>marital-status</th>\n",
       "      <th>occupation</th>\n",
       "      <th>relationship</th>\n",
       "      <th>race</th>\n",
       "      <th>sex</th>\n",
       "      <th>capital-gain</th>\n",
       "      <th>capital-loss</th>\n",
       "      <th>hours-per-week</th>\n",
       "      <th>native-country</th>\n",
       "      <th>salary</th>\n",
       "    </tr>\n",
       "  </thead>\n",
       "  <tbody>\n",
       "    <tr>\n",
       "      <th>0</th>\n",
       "      <td>49</td>\n",
       "      <td>Private</td>\n",
       "      <td>101320</td>\n",
       "      <td>Assoc-acdm</td>\n",
       "      <td>12.0</td>\n",
       "      <td>Married-civ-spouse</td>\n",
       "      <td>NaN</td>\n",
       "      <td>Wife</td>\n",
       "      <td>White</td>\n",
       "      <td>Female</td>\n",
       "      <td>0</td>\n",
       "      <td>1902</td>\n",
       "      <td>40</td>\n",
       "      <td>United-States</td>\n",
       "      <td>&gt;=50k</td>\n",
       "    </tr>\n",
       "    <tr>\n",
       "      <th>1</th>\n",
       "      <td>44</td>\n",
       "      <td>Private</td>\n",
       "      <td>236746</td>\n",
       "      <td>Masters</td>\n",
       "      <td>14.0</td>\n",
       "      <td>Divorced</td>\n",
       "      <td>Exec-managerial</td>\n",
       "      <td>Not-in-family</td>\n",
       "      <td>White</td>\n",
       "      <td>Male</td>\n",
       "      <td>10520</td>\n",
       "      <td>0</td>\n",
       "      <td>45</td>\n",
       "      <td>United-States</td>\n",
       "      <td>&gt;=50k</td>\n",
       "    </tr>\n",
       "    <tr>\n",
       "      <th>2</th>\n",
       "      <td>38</td>\n",
       "      <td>Private</td>\n",
       "      <td>96185</td>\n",
       "      <td>HS-grad</td>\n",
       "      <td>NaN</td>\n",
       "      <td>Divorced</td>\n",
       "      <td>NaN</td>\n",
       "      <td>Unmarried</td>\n",
       "      <td>Black</td>\n",
       "      <td>Female</td>\n",
       "      <td>0</td>\n",
       "      <td>0</td>\n",
       "      <td>32</td>\n",
       "      <td>United-States</td>\n",
       "      <td>&lt;50k</td>\n",
       "    </tr>\n",
       "    <tr>\n",
       "      <th>3</th>\n",
       "      <td>38</td>\n",
       "      <td>Self-emp-inc</td>\n",
       "      <td>112847</td>\n",
       "      <td>Prof-school</td>\n",
       "      <td>15.0</td>\n",
       "      <td>Married-civ-spouse</td>\n",
       "      <td>Prof-specialty</td>\n",
       "      <td>Husband</td>\n",
       "      <td>Asian-Pac-Islander</td>\n",
       "      <td>Male</td>\n",
       "      <td>0</td>\n",
       "      <td>0</td>\n",
       "      <td>40</td>\n",
       "      <td>United-States</td>\n",
       "      <td>&gt;=50k</td>\n",
       "    </tr>\n",
       "    <tr>\n",
       "      <th>4</th>\n",
       "      <td>42</td>\n",
       "      <td>Self-emp-not-inc</td>\n",
       "      <td>82297</td>\n",
       "      <td>7th-8th</td>\n",
       "      <td>NaN</td>\n",
       "      <td>Married-civ-spouse</td>\n",
       "      <td>Other-service</td>\n",
       "      <td>Wife</td>\n",
       "      <td>Black</td>\n",
       "      <td>Female</td>\n",
       "      <td>0</td>\n",
       "      <td>0</td>\n",
       "      <td>50</td>\n",
       "      <td>United-States</td>\n",
       "      <td>&lt;50k</td>\n",
       "    </tr>\n",
       "  </tbody>\n",
       "</table>\n",
       "</div>"
      ],
      "text/plain": [
       "   age          workclass  fnlwgt     education  education-num  \\\n",
       "0   49            Private  101320    Assoc-acdm           12.0   \n",
       "1   44            Private  236746       Masters           14.0   \n",
       "2   38            Private   96185       HS-grad            NaN   \n",
       "3   38       Self-emp-inc  112847   Prof-school           15.0   \n",
       "4   42   Self-emp-not-inc   82297       7th-8th            NaN   \n",
       "\n",
       "        marital-status        occupation    relationship                 race  \\\n",
       "0   Married-civ-spouse               NaN            Wife                White   \n",
       "1             Divorced   Exec-managerial   Not-in-family                White   \n",
       "2             Divorced               NaN       Unmarried                Black   \n",
       "3   Married-civ-spouse    Prof-specialty         Husband   Asian-Pac-Islander   \n",
       "4   Married-civ-spouse     Other-service            Wife                Black   \n",
       "\n",
       "       sex  capital-gain  capital-loss  hours-per-week  native-country salary  \n",
       "0   Female             0          1902              40   United-States  >=50k  \n",
       "1     Male         10520             0              45   United-States  >=50k  \n",
       "2   Female             0             0              32   United-States   <50k  \n",
       "3     Male             0             0              40   United-States  >=50k  \n",
       "4   Female             0             0              50   United-States   <50k  "
      ]
     },
     "execution_count": 2,
     "metadata": {},
     "output_type": "execute_result"
    }
   ],
   "source": [
    "#load and look at the data\n",
    "df = pd.read_csv('adult.csv')\n",
    "\n",
    "df.head()"
   ]
  },
  {
   "cell_type": "markdown",
   "metadata": {},
   "source": [
    "# Validation on Hold-Out Set\n",
    "Even in unsupervised learning, it's a good idea to do a train/validation split during training. This will help you fine-tune your model and avoid overfitting. Let's hold out 20% of the examples."
   ]
  },
  {
   "cell_type": "code",
   "execution_count": 3,
   "metadata": {},
   "outputs": [],
   "source": [
    "train = df.sample(frac=.8, random_state=42)\n",
    "test = df.loc[~df.index.isin(train.index)]\n",
    "\n",
    "X_train = train\n",
    "X_val = test"
   ]
  },
  {
   "cell_type": "markdown",
   "metadata": {},
   "source": [
    "# Building A Model\n",
    "Applying DAE, you have to make a lot of choices. How many hidden layers does your model have? What activations will you use? Learning rate? Optimizer? What noise level do you want to apply to the inputs during training?<br>\n",
    "What about feature scaling? Do you want to use uniform scaling or standard scaling? What about [GaussRank scaling](http://fastml.com/preparing-continuous-features-for-neural-networks-with-rankgauss/), the technique used in a kaggle-winning competition?<br>\n",
    "dfencoder aims to free you from the burden of data munging so you can focus on optimizing these parameters. Here's an example of how to feed these hyperparameters to your model."
   ]
  },
  {
   "cell_type": "code",
   "execution_count": 4,
   "metadata": {},
   "outputs": [],
   "source": [
    "model = AutoEncoder(\n",
    "    encoder_layers = [512, 512, 512], #model architecture\n",
    "    decoder_layers = [], #decoder optional - you can create bottlenecks if you like\n",
    "    activation='relu',\n",
    "    swap_p=0.15, #noise parameter\n",
    "    lr = 0.01,\n",
    "    lr_decay=.99,\n",
    "    logger='ipynb', #special logging for jupyter notebooks\n",
    "    verbose=False,\n",
    "    optimizer='sgd',\n",
    "    scaler='gauss_rank', #gauss rank scaling forces your numeric features into standard normal distributions\n",
    "    min_cats=3 #Define cutoff for minority categories\n",
    ")"
   ]
  },
  {
   "cell_type": "markdown",
   "metadata": {},
   "source": [
    "# Fitting the Model\n",
    "Notice your model doesn't know about the data yet. The model itself won't be built until you call .fit(); on the .fit() call, the model will use the column-wise data types of the input dataframe to determine how to treat each column:\n",
    " - Numeric (float or int) columns will be scaled and treated as continuous variables.\n",
    "     - MSE loss is used for loss on these columns during training.\n",
    " - Categorical (str or 'object') columns will be treated as categorical, with minority classes (frequency < min_cats argument in constructor) being lumped into a special 'N/A' category.\n",
    "     - Categorical Cross Entropy is used as a loss during training.\n",
    "     - These features are embedded into category vectors before being fed into the model.\n",
    "     - [Category embeddings](https://towardsdatascience.com/deep-embeddings-for-categorical-variables-cat2vec-b05c8ab63ac0) enable efficient learning of relationships between unique categories.\n",
    " - Binary (bool or 'object' where n_unique < 3) columns will be treated as binary features.\n",
    "     - Binary Cross Entropy is used as loss.\n",
    "     \n",
    "## Advice on Data Preparation.\n",
    "\n",
    "     \n",
    "The idea is to save you time on feature engineering. If you want, you can just throw a dataframe into the .fit() method and something will happen.<br><br>However, you need to understand the way this library is dealing with your data and how it decides what to do. Make sure to clean up your data - pay attention to dtypes - before calling .fit(). This is how you can specify how the model treats each column!"
   ]
  },
  {
   "cell_type": "code",
   "execution_count": 5,
   "metadata": {
    "scrolled": true
   },
   "outputs": [
    {
     "data": {
      "image/png": "[encoded data removed]",
      "text/plain": [
       "<Figure size 432x288 with 1 Axes>"
      ]
     },
     "metadata": {
      "image/png": {
       "height": 271,
       "width": 395
      },
      "needs_background": "light"
     },
     "output_type": "display_data"
    },
    {
     "name": "stderr",
     "output_type": "stream",
     "text": [
      " 83%|████████▎ | 85/102 [00:07<00:01, 12.76it/s]"
     ]
    },
    {
     "ename": "KeyboardInterrupt",
     "evalue": "",
     "output_type": "error",
     "traceback": [
      "\u001b[0;31m---------------------------------------------------------------------------\u001b[0m",
      "\u001b[0;31mKeyboardInterrupt\u001b[0m                         Traceback (most recent call last)",
      "\u001b[0;32m<ipython-input-5-569ce965675a>\u001b[0m in \u001b[0;36m<module>\u001b[0;34m\u001b[0m\n\u001b[0;32m----> 1\u001b[0;31m \u001b[0mmodel\u001b[0m\u001b[0;34m.\u001b[0m\u001b[0mfit\u001b[0m\u001b[0;34m(\u001b[0m\u001b[0mX_train\u001b[0m\u001b[0;34m,\u001b[0m \u001b[0mepochs\u001b[0m\u001b[0;34m=\u001b[0m\u001b[0;36m1000\u001b[0m\u001b[0;34m,\u001b[0m \u001b[0mval\u001b[0m\u001b[0;34m=\u001b[0m\u001b[0mX_val\u001b[0m\u001b[0;34m)\u001b[0m\u001b[0;34m\u001b[0m\u001b[0m\n\u001b[0m",
      "\u001b[0;32m~/dfencoder/dfencoder/autoencoder.py\u001b[0m in \u001b[0;36mfit\u001b[0;34m(self, df, epochs, val)\u001b[0m\n\u001b[1;32m    577\u001b[0m             \u001b[0;32melse\u001b[0m\u001b[0;34m:\u001b[0m\u001b[0;34m\u001b[0m\u001b[0m\n\u001b[1;32m    578\u001b[0m                 \u001b[0minput_df\u001b[0m \u001b[0;34m=\u001b[0m \u001b[0mdf\u001b[0m\u001b[0;34m.\u001b[0m\u001b[0mswap\u001b[0m\u001b[0;34m(\u001b[0m\u001b[0mlikelihood\u001b[0m\u001b[0;34m=\u001b[0m\u001b[0mself\u001b[0m\u001b[0;34m.\u001b[0m\u001b[0mswap_p\u001b[0m\u001b[0;34m)\u001b[0m\u001b[0;34m\u001b[0m\u001b[0m\n\u001b[0;32m--> 579\u001b[0;31m                 \u001b[0mself\u001b[0m\u001b[0;34m.\u001b[0m\u001b[0mtrain_epoch\u001b[0m\u001b[0;34m(\u001b[0m\u001b[0mn_updates\u001b[0m\u001b[0;34m,\u001b[0m \u001b[0minput_df\u001b[0m\u001b[0;34m,\u001b[0m \u001b[0mdf\u001b[0m\u001b[0;34m)\u001b[0m\u001b[0;34m\u001b[0m\u001b[0m\n\u001b[0m\u001b[1;32m    580\u001b[0m \u001b[0;34m\u001b[0m\u001b[0m\n\u001b[1;32m    581\u001b[0m             \u001b[0;32mif\u001b[0m \u001b[0mself\u001b[0m\u001b[0;34m.\u001b[0m\u001b[0mlr_decay\u001b[0m \u001b[0;32mis\u001b[0m \u001b[0;32mnot\u001b[0m \u001b[0;32mNone\u001b[0m\u001b[0;34m:\u001b[0m\u001b[0;34m\u001b[0m\u001b[0m\n",
      "\u001b[0;32m~/dfencoder/dfencoder/autoencoder.py\u001b[0m in \u001b[0;36mtrain_epoch\u001b[0;34m(self, n_updates, input_df, df, pbar)\u001b[0m\n\u001b[1;32m    637\u001b[0m                 \u001b[0mlogging\u001b[0m\u001b[0;34m=\u001b[0m\u001b[0;32mTrue\u001b[0m\u001b[0;34m\u001b[0m\u001b[0m\n\u001b[1;32m    638\u001b[0m             )\n\u001b[0;32m--> 639\u001b[0;31m             \u001b[0mself\u001b[0m\u001b[0;34m.\u001b[0m\u001b[0mdo_backward\u001b[0m\u001b[0;34m(\u001b[0m\u001b[0mmse\u001b[0m\u001b[0;34m,\u001b[0m \u001b[0mbce\u001b[0m\u001b[0;34m,\u001b[0m \u001b[0mcce\u001b[0m\u001b[0;34m)\u001b[0m\u001b[0;34m\u001b[0m\u001b[0m\n\u001b[0m\u001b[1;32m    640\u001b[0m             \u001b[0mself\u001b[0m\u001b[0;34m.\u001b[0m\u001b[0moptim\u001b[0m\u001b[0;34m.\u001b[0m\u001b[0mstep\u001b[0m\u001b[0;34m(\u001b[0m\u001b[0;34m)\u001b[0m\u001b[0;34m\u001b[0m\u001b[0m\n\u001b[1;32m    641\u001b[0m             \u001b[0mself\u001b[0m\u001b[0;34m.\u001b[0m\u001b[0moptim\u001b[0m\u001b[0;34m.\u001b[0m\u001b[0mzero_grad\u001b[0m\u001b[0;34m(\u001b[0m\u001b[0;34m)\u001b[0m\u001b[0;34m\u001b[0m\u001b[0m\n",
      "\u001b[0;32m~/dfencoder/dfencoder/autoencoder.py\u001b[0m in \u001b[0;36mdo_backward\u001b[0;34m(self, mse, bce, cce)\u001b[0m\n\u001b[1;32m    507\u001b[0m                 \u001b[0mls\u001b[0m\u001b[0;34m.\u001b[0m\u001b[0mbackward\u001b[0m\u001b[0;34m(\u001b[0m\u001b[0mretain_graph\u001b[0m\u001b[0;34m=\u001b[0m\u001b[0;32mFalse\u001b[0m\u001b[0;34m)\u001b[0m\u001b[0;34m\u001b[0m\u001b[0m\n\u001b[1;32m    508\u001b[0m             \u001b[0;32melse\u001b[0m\u001b[0;34m:\u001b[0m\u001b[0;34m\u001b[0m\u001b[0m\n\u001b[0;32m--> 509\u001b[0;31m                 \u001b[0mls\u001b[0m\u001b[0;34m.\u001b[0m\u001b[0mbackward\u001b[0m\u001b[0;34m(\u001b[0m\u001b[0mretain_graph\u001b[0m\u001b[0;34m=\u001b[0m\u001b[0;32mTrue\u001b[0m\u001b[0;34m)\u001b[0m\u001b[0;34m\u001b[0m\u001b[0m\n\u001b[0m\u001b[1;32m    510\u001b[0m \u001b[0;34m\u001b[0m\u001b[0m\n\u001b[1;32m    511\u001b[0m     \u001b[0;32mdef\u001b[0m \u001b[0mcompute_baseline_performance\u001b[0m\u001b[0;34m(\u001b[0m\u001b[0mself\u001b[0m\u001b[0;34m,\u001b[0m \u001b[0min_\u001b[0m\u001b[0;34m,\u001b[0m \u001b[0mout_\u001b[0m\u001b[0;34m)\u001b[0m\u001b[0;34m:\u001b[0m\u001b[0;34m\u001b[0m\u001b[0m\n",
      "\u001b[0;32m~/miniconda3/envs/learn/lib/python3.6/site-packages/torch/tensor.py\u001b[0m in \u001b[0;36mbackward\u001b[0;34m(self, gradient, retain_graph, create_graph)\u001b[0m\n\u001b[1;32m    100\u001b[0m                 \u001b[0mproducts\u001b[0m\u001b[0;34m.\u001b[0m \u001b[0mDefaults\u001b[0m \u001b[0mto\u001b[0m\u001b[0;31m \u001b[0m\u001b[0;31m`\u001b[0m\u001b[0;31m`\u001b[0m\u001b[0;32mFalse\u001b[0m\u001b[0;31m`\u001b[0m\u001b[0;31m`\u001b[0m\u001b[0;34m.\u001b[0m\u001b[0;34m\u001b[0m\u001b[0m\n\u001b[1;32m    101\u001b[0m         \"\"\"\n\u001b[0;32m--> 102\u001b[0;31m         \u001b[0mtorch\u001b[0m\u001b[0;34m.\u001b[0m\u001b[0mautograd\u001b[0m\u001b[0;34m.\u001b[0m\u001b[0mbackward\u001b[0m\u001b[0;34m(\u001b[0m\u001b[0mself\u001b[0m\u001b[0;34m,\u001b[0m \u001b[0mgradient\u001b[0m\u001b[0;34m,\u001b[0m \u001b[0mretain_graph\u001b[0m\u001b[0;34m,\u001b[0m \u001b[0mcreate_graph\u001b[0m\u001b[0;34m)\u001b[0m\u001b[0;34m\u001b[0m\u001b[0m\n\u001b[0m\u001b[1;32m    103\u001b[0m \u001b[0;34m\u001b[0m\u001b[0m\n\u001b[1;32m    104\u001b[0m     \u001b[0;32mdef\u001b[0m \u001b[0mregister_hook\u001b[0m\u001b[0;34m(\u001b[0m\u001b[0mself\u001b[0m\u001b[0;34m,\u001b[0m \u001b[0mhook\u001b[0m\u001b[0;34m)\u001b[0m\u001b[0;34m:\u001b[0m\u001b[0;34m\u001b[0m\u001b[0m\n",
      "\u001b[0;32m~/miniconda3/envs/learn/lib/python3.6/site-packages/torch/autograd/__init__.py\u001b[0m in \u001b[0;36mbackward\u001b[0;34m(tensors, grad_tensors, retain_graph, create_graph, grad_variables)\u001b[0m\n\u001b[1;32m     88\u001b[0m     Variable._execution_engine.run_backward(\n\u001b[1;32m     89\u001b[0m         \u001b[0mtensors\u001b[0m\u001b[0;34m,\u001b[0m \u001b[0mgrad_tensors\u001b[0m\u001b[0;34m,\u001b[0m \u001b[0mretain_graph\u001b[0m\u001b[0;34m,\u001b[0m \u001b[0mcreate_graph\u001b[0m\u001b[0;34m,\u001b[0m\u001b[0;34m\u001b[0m\u001b[0m\n\u001b[0;32m---> 90\u001b[0;31m         allow_unreachable=True)  # allow_unreachable flag\n\u001b[0m\u001b[1;32m     91\u001b[0m \u001b[0;34m\u001b[0m\u001b[0m\n\u001b[1;32m     92\u001b[0m \u001b[0;34m\u001b[0m\u001b[0m\n",
      "\u001b[0;31mKeyboardInterrupt\u001b[0m: "
     ]
    }
   ],
   "source": [
    "model.fit(X_train, epochs=1000, val=X_val)"
   ]
  },
  {
   "cell_type": "markdown",
   "metadata": {},
   "source": [
    "# Model Evaluation\n",
    "How can we tell if the model is performing well? In supervised learning, the answer is straightforward. In self-supervised learning, it may not be so clear at first glance. There are a few terms to consider:\n",
    "<br>\n",
    "## Loss\n",
    "When we talk about loss here, we're talking about the \"reconstruction loss.\" That is, how well does the model predict the *correct* version of the example it's seeing?\n",
    "## Baseline Validation Loss\n",
    "If we apply swap noise to our validation set and compute the loss given a strong prediction for the identity function, we can get an idea for what loss to expect from the model when it learns the trivial identity function. You'll see this value printed to your console (or plotted in your notebook if you use the ipynb logger, as in this notebook). Ideally, our model will learn to perform significantly better than this baseline.\n",
    "## Validation Loss\n",
    "Keeping the swap noise constant (same input as used in computing baseline), we can see how our model does at the end of each epoch on reconstructing the original, unaltered validation set. This is our standard validation loss. Note: we don't re-apply swap noise on each epoch. We want to keep the validation task constant so each evaluation step is compared \"apples-to-apples.\"\n",
    "## Identity Loss\n",
    "The \"identity loss\" is computed by measuring the reconstruction loss when inputs to the model are unaltered. Although learning the identity function is trivial, a low identity loss in combination with a low validation loss indicates that the model is good at identifying unaltered examples and returning an unchanged output."
   ]
  },
  {
   "cell_type": "markdown",
   "metadata": {},
   "source": [
    "# Now What?\n",
    "The question now is, what can we do with our model? There are a number of applications. Let's look at a few of them.\n",
    "## \"Deep Stack\" Features\n",
    "As in the kaggle-winning solution to the Porto Seguro Safe Driver Prediction competition, we can simply use all the activations concatenated together to extract a bunch of latent features from each example:"
   ]
  },
  {
   "cell_type": "code",
   "execution_count": null,
   "metadata": {},
   "outputs": [],
   "source": [
    "z = model.get_deep_stack_features(X_val)\n",
    "print(z.shape)\n",
    "print(z[0, :])"
   ]
  },
  {
   "cell_type": "markdown",
   "metadata": {},
   "source": [
    "In this case, we see that each row now has 1,536 new features associated with it. What can we do with them?\n",
    "We could start by building a model predict the target feature, \"salary\".\n",
    "### BUT WAIT!\n",
    "Didn't we use salary to train the autoencoder? Won't we be cheating?<br><br>\n",
    "Well, maybe. In a moment we'll see why that's not exactly important. Let's try to build a model anyway."
   ]
  },
  {
   "cell_type": "code",
   "execution_count": null,
   "metadata": {},
   "outputs": [],
   "source": [
    "X_train.salary.unique()"
   ]
  },
  {
   "cell_type": "code",
   "execution_count": null,
   "metadata": {},
   "outputs": [],
   "source": [
    "f1_score()"
   ]
  },
  {
   "cell_type": "code",
   "execution_count": null,
   "metadata": {},
   "outputs": [],
   "source": [
    "from sklearn.metrics import f1_score\n",
    "import numpy as np\n",
    "import torch\n",
    "import tqdm\n",
    "\n",
    "class ClassifierModel(torch.nn.Module):\n",
    "    \"\"\"A simple classifier neural network.\"\"\"\n",
    "  \n",
    "    def __init__(self, *args, **kwargs):\n",
    "        super(ClassifierModel, self).__init__(*args, **kwargs)\n",
    "        self.input_dropout = torch.nn.Dropout(.1)\n",
    "        self.input_layer = torch.nn.Linear(1536, 512)\n",
    "        self.dropout = torch.nn.Dropout(.5)\n",
    "        self.dense = torch.nn.Linear(512, 512)\n",
    "        self.output = torch.nn.Linear(512, 1)\n",
    "\n",
    "    def forward(self, x):\n",
    "        x = self.input_dropout(x)\n",
    "        x = self.input_layer(x)\n",
    "        x = torch.relu(x)\n",
    "        x = self.dropout(x)\n",
    "        x = self.dense(x)\n",
    "        x = torch.relu(x)\n",
    "\n",
    "        x = self.output(x)\n",
    "        x = torch.sigmoid(x)\n",
    "        return x\n",
    "    \n",
    "    \n",
    "classifier = ClassifierModel()\n",
    "\n",
    "optim = torch.optim.Adam(\n",
    "    classifier.parameters(),\n",
    "    weight_decay=.01\n",
    ")\n",
    "\n",
    "decay = torch.optim.lr_scheduler.ExponentialLR(optim, .99)\n",
    "\n",
    "loss = torch.nn.modules.loss.BCELoss()\n",
    "\n",
    "def do_step(classifier, optim, z, target, loss):\n",
    "    pred = classifier(z)\n",
    "    target = torch.tensor(target).float().reshape(-1, 1)\n",
    "    loss_ = loss(pred, target)\n",
    "    amnt = loss_.item()\n",
    "    loss_.backward()\n",
    "    optim.step()\n",
    "    optim.zero_grad()\n",
    "    return amnt\n",
    "\n",
    "def do_evaluation(classifier, z, target, loss):\n",
    "    with torch.no_grad():\n",
    "        pred = classifier(z)\n",
    "        probs = pred.numpy().reshape(-1)\n",
    "        predictions = np.where(probs > .5, 1, 0)\n",
    "\n",
    "        accuracy = np.where(target==predictions, 1, 0).sum()/len(predictions)\n",
    "        f1 = f1_score(target, predictions)\n",
    "\n",
    "        target_ = torch.tensor(target).float().reshape(-1, 1)\n",
    "        loss_ = loss(pred, target_)\n",
    "        return loss_.item(), accuracy, f1\n",
    "\n",
    "  \n",
    "batch_size = 256\n",
    "n_updates = (len(X_train)//batch_size) + 1\n",
    "\n",
    "n_epochs = 1000\n",
    "\n",
    "#To extract features, we'll set the target column on the input\n",
    "#equal to the majority class: <50k\n",
    "\n",
    "X_train2 = X_train.copy()\n",
    "X_train2['salary'] = ['<50k' for _ in X_train2['salary']]\n",
    "z_train = model.get_deep_stack_features(X_train2)\n",
    "\n",
    "Y_train = np.where(X_train['salary'].values == '<50k', 0, 1)\n",
    "\n",
    "X_test2 = X_val.copy()\n",
    "X_test2['salary'] = ['<50k' for _ in X_test2['salary']]\n",
    "z_test = model.get_deep_stack_features(X_test2)\n",
    "Y_test = np.where(X_val['salary'].values == '<50k', 0, 1)\n",
    "\n",
    "for j in range(n_epochs):\n",
    "    for i in tqdm.trange(n_updates):\n",
    "        step = i\n",
    "        start = int((step) * batch_size)\n",
    "        stop = int((step+1) * batch_size)\n",
    "        in_ = z_train[start:stop]\n",
    "        target = Y_train[start:stop]\n",
    "        do_step(classifier, optim, in_, target, loss)\n",
    "    decay.step()\n",
    "    bce_loss, accuracy, f1 = do_evaluation(classifier, z_test, Y_test, loss)\n",
    "    print('validation loss: ', round(bce_loss, 4))\n",
    "    print('validation accuracy: ', round(accuracy, 3))\n",
    "    print('validation f1 score: ', round(f1, 3))"
   ]
  },
  {
   "cell_type": "markdown",
   "metadata": {},
   "source": [
    "We got something. It might not be the best model but whatever. It's there"
   ]
  },
  {
   "cell_type": "code",
   "execution_count": null,
   "metadata": {},
   "outputs": [],
   "source": [
    "model2 = AutoEncoder(\n",
    "    encoder_layers = [256, 256, 256, 128],\n",
    "    decoder_layers = [],\n",
    "    activation='relu',\n",
    "    swap_p=0.1,\n",
    "    lr = 0.01,\n",
    "    lr_decay=.99,\n",
    "    logger='ipynb',\n",
    "    verbose=False,\n",
    "    scaler='gauss_rank',\n",
    "    optimizer='adam',\n",
    "    min_cats=3\n",
    ")\n",
    "\n",
    "model2.fit(X_train, epochs=100, val=X_val)"
   ]
  },
  {
   "cell_type": "code",
   "execution_count": null,
   "metadata": {},
   "outputs": [],
   "source": [
    "n_rows = 42594\n",
    "n_megabatches = 10\n",
    "batch_size = 256\n",
    "res = n_rows/n_megabatches\n",
    "batches_per_megabatch = (res // batch_size) + 1\n",
    "megabatch_size = batches_per_megabatch * batch_size\n",
    "final_batch_size = n_rows - (n_megabatches - 1) * megabatch_size"
   ]
  },
  {
   "cell_type": "code",
   "execution_count": null,
   "metadata": {},
   "outputs": [],
   "source": [
    "from scipy.spatial.distance import cosine\n",
    "\n",
    "def compare_category(feature, cat):\n",
    "    cats = feature['cats']\n",
    "    scores = []\n",
    "    this_cat = cats.index(cat)\n",
    "    emb = feature['embedding']\n",
    "    \n",
    "    ft_embedding = emb.weight.data.numpy()[this_cat, :]\n",
    "    \n",
    "    for i, cat_ in enumerate(cats):\n",
    "        vec = emb.weight.data.numpy()[i, :]\n",
    "        similarity = cosine(ft_embedding, vec)\n",
    "        scores.append(similarity)\n",
    "        \n",
    "    scrnm = f'distance from {cat}'\n",
    "    result = pd.DataFrame(columns=['category', scrnm])\n",
    "    result['category'] = cats\n",
    "    result[scrnm] = scores\n",
    "    \n",
    "    print(result.sort_values(scrnm))\n",
    "    \n",
    "    \n",
    "\n",
    "compare_category(model2.categorical_fts['native-country'], ' United-States')"
   ]
  },
  {
   "cell_type": "code",
   "execution_count": null,
   "metadata": {},
   "outputs": [],
   "source": [
    "df.head()"
   ]
  },
  {
   "cell_type": "code",
   "execution_count": null,
   "metadata": {},
   "outputs": [],
   "source": [
    "plt.hist(df['age'])\n",
    "plt.show()\n",
    "\n",
    "from sklearn.preprocessing import QuantileTransformer\n",
    "\n",
    "tf = QuantileTransformer(output_distribution='normal')\n",
    "x_ = tf.fit_transform(df['age'].values.reshape(-1, 1))\n",
    "plt.hist(x_, bins=25)\n",
    "plt.show()"
   ]
  },
  {
   "cell_type": "code",
   "execution_count": null,
   "metadata": {},
   "outputs": [],
   "source": [
    "x_.shape"
   ]
  },
  {
   "cell_type": "code",
   "execution_count": null,
   "metadata": {},
   "outputs": [],
   "source": [
    "Y.value_counts()"
   ]
  },
  {
   "cell_type": "code",
   "execution_count": null,
   "metadata": {},
   "outputs": [],
   "source": [
    "import numpy as np\n",
    "\n",
    "#X_val['salary'] = np.random.choice(['>=50k', '<50k'], size=Y.shape)\n",
    "X_val['salary'] = ['>=50k' for _ in Y]\n",
    "df_hat = model.df_predict(X_val)\n",
    "Y_hat = df_hat['salary']"
   ]
  },
  {
   "cell_type": "code",
   "execution_count": null,
   "metadata": {},
   "outputs": [],
   "source": [
    "from sklearn.metrics import classification_report\n",
    "\n",
    "print(classification_report(Y, Y_hat))"
   ]
  },
  {
   "cell_type": "code",
   "execution_count": null,
   "metadata": {},
   "outputs": [],
   "source": [
    "from sklearn.linear_model import LogisticRegression\n",
    "\n",
    "lr = LogisticRegression()\n",
    "\n",
    "Y = train.salary\n",
    "\n",
    "lr.fit(z.detach().numpy(), Y)"
   ]
  },
  {
   "cell_type": "code",
   "execution_count": null,
   "metadata": {},
   "outputs": [],
   "source": [
    "Y_hat = lr.predict(model.get_vector(X_val).detach().numpy())"
   ]
  },
  {
   "cell_type": "code",
   "execution_count": null,
   "metadata": {},
   "outputs": [],
   "source": [
    "(Y_hat == test.salary).sum()/len(test)"
   ]
  },
  {
   "cell_type": "code",
   "execution_count": null,
   "metadata": {},
   "outputs": [],
   "source": [
    "from sklearn.metrics import classification_report\n"
   ]
  },
  {
   "cell_type": "code",
   "execution_count": null,
   "metadata": {},
   "outputs": [],
   "source": [
    "print(classification_report(test.salary, Y_hat))"
   ]
  },
  {
   "cell_type": "code",
   "execution_count": null,
   "metadata": {},
   "outputs": [],
   "source": [
    "import torch"
   ]
  },
  {
   "cell_type": "code",
   "execution_count": null,
   "metadata": {},
   "outputs": [],
   "source": [
    "a = torch.tensor([0, 1, 0])\n",
    "(a==0).float() * .1\n",
    "(a==1).float() * -.1"
   ]
  },
  {
   "cell_type": "code",
   "execution_count": null,
   "metadata": {},
   "outputs": [],
   "source": [
    "from scipy.special import softmax"
   ]
  },
  {
   "cell_type": "code",
   "execution_count": null,
   "metadata": {},
   "outputs": [],
   "source": [
    "import numpy as np\n",
    "\n",
    "def softmax(x):\n",
    "    \"\"\"Compute softmax values for each sets of scores in x.\"\"\"\n",
    "    e_x = np.exp(x - np.max(x))\n",
    "    return e_x / e_x.sum()\n",
    "\n",
    "scores = [3, 0.0, 0.0]\n",
    "print(softmax(scores))"
   ]
  },
  {
   "cell_type": "code",
   "execution_count": null,
   "metadata": {},
   "outputs": [],
   "source": [
    "import torch\n",
    "\n",
    "test_inp = torch.tensor([0, 3, 5, 6, 8])\n",
    "\n",
    "\n",
    "def ohe(input_vector, dim):\n",
    "    batch_size = len(input_vector)\n",
    "    nb_digits = dim\n",
    "\n",
    "    y = input_vector.reshape(-1, 1)\n",
    "    y_onehot = torch.FloatTensor(batch_size, nb_digits)\n",
    "\n",
    "    y_onehot.zero_()\n",
    "    y_onehot.scatter_(1, y, 1)\n",
    "    \n",
    "    return y_onehot\n",
    "\n",
    "y_onehot = ohe(test_inp, dim=11)\n",
    "print(y_onehot*1)\n",
    "    \n"
   ]
  },
  {
   "cell_type": "code",
   "execution_count": null,
   "metadata": {},
   "outputs": [],
   "source": [
    "from collections import OrderedDict"
   ]
  },
  {
   "cell_type": "code",
   "execution_count": null,
   "metadata": {},
   "outputs": [],
   "source": [
    "b = OrderedDict()\n",
    "b['a'] = 1\n",
    "b['b'] = 2\n",
    "b['3'] = 3"
   ]
  },
  {
   "cell_type": "code",
   "execution_count": null,
   "metadata": {},
   "outputs": [],
   "source": [
    "c = pd.Categorical(values = ['a', 'man', 'has', 'hands'], categories=['a', 'has', 'man'])\n",
    "c._set_codes([0, 0, 0, 0])"
   ]
  },
  {
   "cell_type": "code",
   "execution_count": null,
   "metadata": {},
   "outputs": [],
   "source": [
    "import torch\n",
    "isinstance(torch.optim.Adam([None]), torch.optim.Optimizer)"
   ]
  },
  {
   "cell_type": "code",
   "execution_count": null,
   "metadata": {},
   "outputs": [],
   "source": [
    "torch.optim.Optimizer"
   ]
  },
  {
   "cell_type": "code",
   "execution_count": null,
   "metadata": {},
   "outputs": [],
   "source": [
    "df.head()"
   ]
  },
  {
   "cell_type": "code",
   "execution_count": null,
   "metadata": {},
   "outputs": [],
   "source": [
    "['age', 'workclass', 'fnlwgt', 'education', 'education-num',\n",
    "       'marital-status', 'occupation', 'relationship', 'race', 'sex',\n",
    "       'capital-gain', 'capital-loss', 'hours-per-week', 'native-country',\n",
    "       'salary']"
   ]
  },
  {
   "cell_type": "code",
   "execution_count": null,
   "metadata": {},
   "outputs": [],
   "source": [
    "import pandas as pd\n",
    "import numpy as np\n",
    "from dfencoder import EncoderDataFrame\n",
    "\n",
    "df = pd.DataFrame()\n",
    "\n",
    "df['a'] = [0, 2, 4, 6, 1, 5, 2, 6, 7]\n",
    "df['b'] = [2.2, 3.1, 0.1, -.2, 0.4, 6.7, 2.2, 3.3, 1.1]\n",
    "df['cat'] = ['dog', 'cat', 'fish', 'bird', 'elephant', 'giraffe', 'lion', 'tiger', 'bear']\n",
    "\n",
    "indices = [\n",
    "    [1, 2], [0, 2]\n",
    "]\n",
    "\n",
    "n_rows = 2\n",
    "tot_rows = len(df)\n",
    "n_cols = len(df.columns)\n",
    "\n",
    "def gen_indices():\n",
    "    column = np.repeat(np.arange(n_cols).reshape(1, -1), repeats=n_rows, axis=0)\n",
    "    row = np.random.randint(0, tot_rows, size=(n_rows, n_cols))\n",
    "    return row, column\n",
    "\n",
    "row, column = gen_indices()\n",
    "to_place = df.values[row, column]\n",
    "\n",
    "row, column = gen_indices()\n",
    "new_mat = df.values\n",
    "new_mat[row, column] = to_place\n",
    "\n",
    "dtypes = {col:typ for col, typ in zip(df.columns, df.dtypes)}\n",
    "new_df = pd.DataFrame(columns=dtypes, data=new_mat)\n",
    "new_df = new_df.astype(dtypes)\n",
    "new_df.dtypes"
   ]
  },
  {
   "cell_type": "code",
   "execution_count": null,
   "metadata": {},
   "outputs": [],
   "source": [
    "df = EncoderDataFrame(df)\n",
    "df"
   ]
  },
  {
   "cell_type": "code",
   "execution_count": null,
   "metadata": {},
   "outputs": [],
   "source": [
    "df = EncoderDataFrame()\n",
    "df['make'] = ['honda', 'ferrari']\n",
    "df['model'] = ['civic', 'portofino']\n",
    "df['color'] = ['silver', 'red']\n",
    "df['year'] = [2004, 2020]\n",
    "df"
   ]
  },
  {
   "cell_type": "code",
   "execution_count": null,
   "metadata": {},
   "outputs": [],
   "source": [
    "x = np.empty((10,), dtype=[('x', np.uint8), ('y', np.float64)])\n",
    "df = pd.DataFrame(x)\n",
    "\n",
    "df['x'].dtype"
   ]
  },
  {
   "cell_type": "code",
   "execution_count": null,
   "metadata": {},
   "outputs": [],
   "source": [
    "row = np.array([\n",
    "    [5, 2, 3],\n",
    "    [1, 2, 4]\n",
    "])\n",
    "\n",
    "column = np.array([\n",
    "    [0, 1, 2],\n",
    "    [0, 1, 2]\n",
    "])\n",
    "\n",
    "cop = df.values[row, column]\n",
    "type(cop[0, 1])"
   ]
  },
  {
   "cell_type": "code",
   "execution_count": null,
   "metadata": {},
   "outputs": [],
   "source": [
    "from dfencoder import EncoderDataFrame\n",
    "\n",
    "ef = EncoderDataFrame(df)"
   ]
  },
  {
   "cell_type": "code",
   "execution_count": null,
   "metadata": {},
   "outputs": [],
   "source": [
    "ef.swap()"
   ]
  },
  {
   "cell_type": "code",
   "execution_count": null,
   "metadata": {},
   "outputs": [],
   "source": []
  }
 ],
 "metadata": {
  "kernelspec": {
   "display_name": "Python 3",
   "language": "python",
   "name": "python3"
  },
  "language_info": {
   "codemirror_mode": {
    "name": "ipython",
    "version": 3
   },
   "file_extension": ".py",
   "mimetype": "text/x-python",
   "name": "python",
   "nbconvert_exporter": "python",
   "pygments_lexer": "ipython3",
   "version": "3.6.6"
  }
 },
 "nbformat": 4,
 "nbformat_minor": 2
}
