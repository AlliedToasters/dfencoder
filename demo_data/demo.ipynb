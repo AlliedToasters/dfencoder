{
 "cells": [
  {
   "cell_type": "markdown",
   "metadata": {
    "colab_type": "text",
    "id": "TBcRC2C1jz21"
   },
   "source": [
    "# dfencoder Demo: Census Dataset\n",
    "This is a demonstration of the dfencoder library. We will use the [adult census dataset](https://archive.ics.uci.edu/ml/datasets/adult) for this demo."
   ]
  },
  {
   "cell_type": "code",
   "execution_count": 1,
   "metadata": {
    "colab": {},
    "colab_type": "code",
    "id": "vFbItuc1jz25"
   },
   "outputs": [],
   "source": [
    "#these are our libraries\n",
    "from dfencoder import AutoEncoder\n",
    "import numpy as np\n",
    "import pandas as pd\n",
    "\n",
    "#and, for pretty visualiations...\n",
    "import matplotlib.pyplot as plt\n",
    "import seaborn as sns\n",
    "\n",
    "sns.set()\n",
    "%config InlineBackend.figure_format = 'retina'"
   ]
  },
  {
   "cell_type": "markdown",
   "metadata": {
    "colab_type": "text",
    "id": "owdbRiOBjz3D"
   },
   "source": [
    "# About the Data\n",
    "This dataset contains information about 32,561 adults (in the training set), with a number of features.<br><br>\n",
    "Traditionally, the target variable is \"salary,\" a binary feature with \"<50k\" and \">=50k\" as its two values. For this now, we'll treat this column as we do all the others."
   ]
  },
  {
   "cell_type": "code",
   "execution_count": 2,
   "metadata": {
    "colab": {
     "base_uri": "https://localhost:8080/",
     "height": 206
    },
    "colab_type": "code",
    "id": "R8_QThs4jz3F",
    "outputId": "54aa0bb3-32e6-4fff-fb13-ed981a771094"
   },
   "outputs": [
    {
     "data": {
      "text/html": [
       "<div>\n",
       "<style scoped>\n",
       "    .dataframe tbody tr th:only-of-type {\n",
       "        vertical-align: middle;\n",
       "    }\n",
       "\n",
       "    .dataframe tbody tr th {\n",
       "        vertical-align: top;\n",
       "    }\n",
       "\n",
       "    .dataframe thead th {\n",
       "        text-align: right;\n",
       "    }\n",
       "</style>\n",
       "<table border=\"1\" class=\"dataframe\">\n",
       "  <thead>\n",
       "    <tr style=\"text-align: right;\">\n",
       "      <th></th>\n",
       "      <th>age</th>\n",
       "      <th>workclass</th>\n",
       "      <th>fnlwgt</th>\n",
       "      <th>education</th>\n",
       "      <th>education-num</th>\n",
       "      <th>marital-status</th>\n",
       "      <th>occupation</th>\n",
       "      <th>relationship</th>\n",
       "      <th>race</th>\n",
       "      <th>sex</th>\n",
       "      <th>capital-gain</th>\n",
       "      <th>capital-loss</th>\n",
       "      <th>hours-per-week</th>\n",
       "      <th>native-country</th>\n",
       "      <th>salary</th>\n",
       "    </tr>\n",
       "  </thead>\n",
       "  <tbody>\n",
       "    <tr>\n",
       "      <th>0</th>\n",
       "      <td>49</td>\n",
       "      <td>Private</td>\n",
       "      <td>101320</td>\n",
       "      <td>Assoc-acdm</td>\n",
       "      <td>12.0</td>\n",
       "      <td>Married-civ-spouse</td>\n",
       "      <td>NaN</td>\n",
       "      <td>Wife</td>\n",
       "      <td>White</td>\n",
       "      <td>Female</td>\n",
       "      <td>0</td>\n",
       "      <td>1902</td>\n",
       "      <td>40</td>\n",
       "      <td>United-States</td>\n",
       "      <td>&gt;=50k</td>\n",
       "    </tr>\n",
       "    <tr>\n",
       "      <th>1</th>\n",
       "      <td>44</td>\n",
       "      <td>Private</td>\n",
       "      <td>236746</td>\n",
       "      <td>Masters</td>\n",
       "      <td>14.0</td>\n",
       "      <td>Divorced</td>\n",
       "      <td>Exec-managerial</td>\n",
       "      <td>Not-in-family</td>\n",
       "      <td>White</td>\n",
       "      <td>Male</td>\n",
       "      <td>10520</td>\n",
       "      <td>0</td>\n",
       "      <td>45</td>\n",
       "      <td>United-States</td>\n",
       "      <td>&gt;=50k</td>\n",
       "    </tr>\n",
       "    <tr>\n",
       "      <th>2</th>\n",
       "      <td>38</td>\n",
       "      <td>Private</td>\n",
       "      <td>96185</td>\n",
       "      <td>HS-grad</td>\n",
       "      <td>NaN</td>\n",
       "      <td>Divorced</td>\n",
       "      <td>NaN</td>\n",
       "      <td>Unmarried</td>\n",
       "      <td>Black</td>\n",
       "      <td>Female</td>\n",
       "      <td>0</td>\n",
       "      <td>0</td>\n",
       "      <td>32</td>\n",
       "      <td>United-States</td>\n",
       "      <td>&lt;50k</td>\n",
       "    </tr>\n",
       "    <tr>\n",
       "      <th>3</th>\n",
       "      <td>38</td>\n",
       "      <td>Self-emp-inc</td>\n",
       "      <td>112847</td>\n",
       "      <td>Prof-school</td>\n",
       "      <td>15.0</td>\n",
       "      <td>Married-civ-spouse</td>\n",
       "      <td>Prof-specialty</td>\n",
       "      <td>Husband</td>\n",
       "      <td>Asian-Pac-Islander</td>\n",
       "      <td>Male</td>\n",
       "      <td>0</td>\n",
       "      <td>0</td>\n",
       "      <td>40</td>\n",
       "      <td>United-States</td>\n",
       "      <td>&gt;=50k</td>\n",
       "    </tr>\n",
       "    <tr>\n",
       "      <th>4</th>\n",
       "      <td>42</td>\n",
       "      <td>Self-emp-not-inc</td>\n",
       "      <td>82297</td>\n",
       "      <td>7th-8th</td>\n",
       "      <td>NaN</td>\n",
       "      <td>Married-civ-spouse</td>\n",
       "      <td>Other-service</td>\n",
       "      <td>Wife</td>\n",
       "      <td>Black</td>\n",
       "      <td>Female</td>\n",
       "      <td>0</td>\n",
       "      <td>0</td>\n",
       "      <td>50</td>\n",
       "      <td>United-States</td>\n",
       "      <td>&lt;50k</td>\n",
       "    </tr>\n",
       "  </tbody>\n",
       "</table>\n",
       "</div>"
      ],
      "text/plain": [
       "   age          workclass  fnlwgt     education  education-num  \\\n",
       "0   49            Private  101320    Assoc-acdm           12.0   \n",
       "1   44            Private  236746       Masters           14.0   \n",
       "2   38            Private   96185       HS-grad            NaN   \n",
       "3   38       Self-emp-inc  112847   Prof-school           15.0   \n",
       "4   42   Self-emp-not-inc   82297       7th-8th            NaN   \n",
       "\n",
       "        marital-status        occupation    relationship                 race  \\\n",
       "0   Married-civ-spouse               NaN            Wife                White   \n",
       "1             Divorced   Exec-managerial   Not-in-family                White   \n",
       "2             Divorced               NaN       Unmarried                Black   \n",
       "3   Married-civ-spouse    Prof-specialty         Husband   Asian-Pac-Islander   \n",
       "4   Married-civ-spouse     Other-service            Wife                Black   \n",
       "\n",
       "       sex  capital-gain  capital-loss  hours-per-week  native-country salary  \n",
       "0   Female             0          1902              40   United-States  >=50k  \n",
       "1     Male         10520             0              45   United-States  >=50k  \n",
       "2   Female             0             0              32   United-States   <50k  \n",
       "3     Male             0             0              40   United-States  >=50k  \n",
       "4   Female             0             0              50   United-States   <50k  "
      ]
     },
     "execution_count": 2,
     "metadata": {},
     "output_type": "execute_result"
    }
   ],
   "source": [
    "#load and look at the data\n",
    "df = pd.read_csv('https://github.com/AlliedToasters/dfencoder/raw/master/adult.csv')\n",
    "\n",
    "#this dataset contains nulls and ' ?'. Let's make these all nulls.\n",
    "df = df.applymap(lambda x: np.nan if x==' ?' else x)\n",
    "df.head()"
   ]
  },
  {
   "cell_type": "markdown",
   "metadata": {
    "colab_type": "text",
    "id": "TujK8E4sjz3P"
   },
   "source": [
    "# Validation on Hold-Out Set\n",
    "Even in unsupervised learning, it's a good idea to do a train/validation split during training. This will help you fine-tune your model and avoid overfitting. Let's hold out 20% of the examples."
   ]
  },
  {
   "cell_type": "code",
   "execution_count": 3,
   "metadata": {
    "colab": {},
    "colab_type": "code",
    "id": "Xkf1bTOMjz3S"
   },
   "outputs": [],
   "source": [
    "train = df.sample(frac=.8, random_state=42)\n",
    "test = df.loc[~df.index.isin(train.index)]\n",
    "\n",
    "X_train = train\n",
    "X_val = test"
   ]
  },
  {
   "cell_type": "markdown",
   "metadata": {
    "colab_type": "text",
    "id": "KolIH4w_jz3Y"
   },
   "source": [
    "# Building A Model\n",
    "Applying DAE, you have to make a lot of choices. How many hidden layers does your model have? What activations will you use? Learning rate? Optimizer? What noise level do you want to apply to the inputs during training?<br>\n",
    "What about feature scaling? Do you want to use uniform scaling or standard scaling? What about [GaussRank scaling](http://fastml.com/preparing-continuous-features-for-neural-networks-with-rankgauss/), the technique used in a kaggle-winning competition?<br>\n",
    "dfencoder aims to free you from the burden of data munging so you can focus on optimizing these parameters. Here's an example of how to feed these hyperparameters to your model."
   ]
  },
  {
   "cell_type": "code",
   "execution_count": 4,
   "metadata": {
    "colab": {},
    "colab_type": "code",
    "id": "cw0azuY0jz3Z"
   },
   "outputs": [],
   "source": [
    "model = AutoEncoder(\n",
    "    encoder_layers = [512, 512, 512], #model architecture\n",
    "    decoder_layers = [], #decoder optional - you can create bottlenecks if you like\n",
    "    activation='relu',\n",
    "    swap_p=0.2, #noise parameter\n",
    "    lr = 0.01,\n",
    "    lr_decay=.99,\n",
    "    batch_size=512,\n",
    "    logger='ipynb', #special logging for jupyter notebooks\n",
    "    verbose=False,\n",
    "    optimizer='sgd',\n",
    "    scaler='gauss_rank', #gauss rank scaling forces your numeric features into standard normal distributions\n",
    "    min_cats=3 #Define cutoff for minority categories, default 10\n",
    ")"
   ]
  },
  {
   "cell_type": "markdown",
   "metadata": {
    "colab_type": "text",
    "id": "oPsJB2HJjz3f"
   },
   "source": [
    "# Fitting the Model\n",
    "Notice your model doesn't know about the data yet. The model itself won't be built until you call .fit(); on the .fit() call, the model will use the column-wise data types of the input dataframe to determine how to treat each column:\n",
    " - Numeric (float or int) columns will be scaled and treated as continuous variables.\n",
    "     - MSE loss is used for loss on these columns during training.\n",
    " - Categorical (category, str or 'object') columns will be treated as categorical, with minority classes (frequency < min_cats argument in constructor) being lumped into a special 'N/A' category.\n",
    "     - Categorical Cross Entropy is used as a loss during training.\n",
    "     - These features are embedded into category vectors before being fed into the model.\n",
    "     - [Category embeddings](https://towardsdatascience.com/deep-embeddings-for-categorical-variables-cat2vec-b05c8ab63ac0) enable efficient learning of relationships between unique categories.\n",
    " - Binary (bool or 'object' where n_unique < 3) columns will be treated as binary features.\n",
    "     - Binary Cross Entropy is used as loss.\n",
    "     \n",
    "## Advice on Data Preparation.\n",
    "\n",
    "     \n",
    "The idea is to save you time on feature engineering. If you want, you can just throw a dataframe into the .fit() method and something will happen.<br><br>However, you need to understand the way this library is dealing with your data and how it decides what to do. Make sure to clean up your data - pay attention to dtypes - before calling .fit(). This is how you can specify how the model treats each column!"
   ]
  },
  {
   "cell_type": "code",
   "execution_count": 5,
   "metadata": {
    "colab": {
     "base_uri": "https://localhost:8080/",
     "height": 288
    },
    "colab_type": "code",
    "id": "BLsdRAUWjz3h",
    "outputId": "4109328a-8b3c-4bc1-f630-f5e650c7797f",
    "scrolled": true
   },
   "outputs": [
    {
     "data": {
      "image/png": "[encoded data removed]",
      "text/plain": [
       "<Figure size 432x288 with 1 Axes>"
      ]
     },
     "metadata": {
      "image/png": {
       "height": 267,
       "width": 399
      }
     },
     "output_type": "display_data"
    }
   ],
   "source": [
    "model.fit(X_train, epochs=10, val=X_val)"
   ]
  },
  {
   "cell_type": "markdown",
   "metadata": {
    "colab_type": "text",
    "id": "G0n0NUGgjz3p"
   },
   "source": [
    "# Model Evaluation\n",
    "How can we tell if the model is performing well? In supervised learning, the answer is straightforward. In self-supervised learning, it may not be so clear at first glance. There are a few terms to consider:\n",
    "<br>\n",
    "## Loss\n",
    "When we talk about loss here, we're talking about the \"reconstruction loss.\" That is, how well does the model predict the *correct* version of the example it's seeing?\n",
    "## Baseline Validation Loss\n",
    "If we apply swap noise to our validation set and compute the loss given a strong prediction for the identity function, we can get an idea for what loss to expect from the model when it learns the trivial identity function. You'll see this value printed to your console (or plotted in your notebook if you use the ipynb logger, as in this notebook). Ideally, our model will learn to perform significantly better than this baseline.\n",
    "## Validation Loss\n",
    "Keeping the swap noise constant (same input as used in computing baseline), we can see how our model does at the end of each epoch on reconstructing the original, unaltered validation set. This is our standard validation loss. Note: we don't re-apply swap noise on each epoch. We want to keep the validation task constant so each evaluation step is compared \"apples-to-apples.\"\n",
    "## Identity Loss\n",
    "The \"identity loss\" is computed by measuring the reconstruction loss when inputs to the model are unaltered. Although learning the identity function is trivial, a low identity loss in combination with a low validation loss indicates that the model is good at identifying unaltered examples and returning an unchanged output."
   ]
  },
  {
   "cell_type": "markdown",
   "metadata": {
    "colab_type": "text",
    "id": "g2FfXXW_jz3r"
   },
   "source": [
    "# Now What?\n",
    "The question now is, what can we do with our model? There are a number of applications. Let's look at a few of them.\n",
    "## \"Deep Stack\" Features\n",
    "As in the kaggle-winning solution to the Porto Seguro Safe Driver Prediction competition, we can simply use all the activations concatenated together to extract a bunch of latent features from each example:"
   ]
  },
  {
   "cell_type": "code",
   "execution_count": 6,
   "metadata": {
    "colab": {
     "base_uri": "https://localhost:8080/",
     "height": 52
    },
    "colab_type": "code",
    "id": "lYNRnoPpjz3u",
    "outputId": "9ab8621e-ba13-4a35-e6bb-af2187557bca"
   },
   "outputs": [
    {
     "name": "stdout",
     "output_type": "stream",
     "text": [
      "torch.Size([6512, 1536])\n",
      "tensor([0.0000, 0.0000, 0.0361,  ..., 0.0000, 0.6889, 0.0000], device='cuda:0')\n"
     ]
    }
   ],
   "source": [
    "z = model.get_deep_stack_features(X_val)\n",
    "print(z.shape)\n",
    "print(z[0, :])"
   ]
  },
  {
   "cell_type": "markdown",
   "metadata": {
    "colab_type": "text",
    "id": "wdZ3Voukjz30"
   },
   "source": [
    "In this case, we see that each row now has 1,536 new features associated with it. What can we do with them?\n",
    "We could start by building a model predict the target feature, \"salary\".\n",
    "### BUT WAIT!\n",
    "Didn't we use salary to train the autoencoder? Won't we be cheating?<br><br>\n",
    "Well, maybe. In a moment we'll see why that's not exactly important. Let's try to build a model anyway."
   ]
  },
  {
   "cell_type": "code",
   "execution_count": 7,
   "metadata": {
    "colab": {
     "base_uri": "https://localhost:8080/",
     "height": 34
    },
    "colab_type": "code",
    "id": "kHQwDVfMjz31",
    "outputId": "5fe98a5f-0708-4465-e689-fe743b34631d"
   },
   "outputs": [
    {
     "data": {
      "text/plain": [
       "array(['<50k', '>=50k'], dtype=object)"
      ]
     },
     "execution_count": 7,
     "metadata": {},
     "output_type": "execute_result"
    }
   ],
   "source": [
    "X_train.salary.unique()"
   ]
  },
  {
   "cell_type": "code",
   "execution_count": 8,
   "metadata": {
    "colab": {
     "base_uri": "https://localhost:8080/",
     "height": 278
    },
    "colab_type": "code",
    "id": "EPMwVDs1jz4F",
    "outputId": "17052ed2-92d5-413a-a20c-d16181f11c5e"
   },
   "outputs": [
    {
     "name": "stdout",
     "output_type": "stream",
     "text": [
      "0 epochs complete...\n",
      "\n",
      "Final results: \n",
      "validation loss:  0.3511\n",
      "validation accuracy:  0.832\n",
      "validation f1 score:  0.647\n"
     ]
    }
   ],
   "source": [
    "from tqdm import tqdm_notebook as tqdm\n",
    "\n",
    "from sklearn.metrics import f1_score\n",
    "import numpy as np\n",
    "import torch\n",
    "import tqdm\n",
    "\n",
    "class ClassifierModel(torch.nn.Module):\n",
    "    \"\"\"A simple classifier neural network.\"\"\"\n",
    "  \n",
    "    def __init__(self, *args, **kwargs):\n",
    "        super(ClassifierModel, self).__init__(*args, **kwargs)\n",
    "        self.input_dropout = torch.nn.Dropout(.1)\n",
    "        self.input_layer = torch.nn.Linear(1536, 512)\n",
    "        self.dropout = torch.nn.Dropout(.5)\n",
    "        self.dense = torch.nn.Linear(512, 512)\n",
    "        self.output = torch.nn.Linear(512, 1)\n",
    "\n",
    "    def forward(self, x):\n",
    "        x = self.input_dropout(x)\n",
    "        x = self.input_layer(x)\n",
    "        x = torch.relu(x)\n",
    "        x = self.dropout(x)\n",
    "        x = self.dense(x)\n",
    "        x = torch.relu(x)\n",
    "\n",
    "        x = self.output(x)\n",
    "        x = torch.sigmoid(x)\n",
    "        return x\n",
    "    \n",
    "    \n",
    "classifier = ClassifierModel().to(\"cuda:0\")\n",
    "\n",
    "optim = torch.optim.Adam(\n",
    "    classifier.parameters(),\n",
    "    weight_decay=.01\n",
    ")\n",
    "\n",
    "decay = torch.optim.lr_scheduler.ExponentialLR(optim, .99)\n",
    "\n",
    "loss = torch.nn.modules.loss.BCELoss()\n",
    "\n",
    "def do_step(classifier, optim, z, target, loss):\n",
    "    pred = classifier(z)\n",
    "    target = torch.tensor(target).float().reshape(-1, 1).to(\"cuda:0\")\n",
    "    loss_ = loss(pred, target)\n",
    "    amnt = loss_.item()\n",
    "    loss_.backward()\n",
    "    optim.step()\n",
    "    optim.zero_grad()\n",
    "    return amnt\n",
    "\n",
    "def do_evaluation(classifier, z, target, loss):\n",
    "    with torch.no_grad():\n",
    "        pred = classifier(z)\n",
    "        probs = pred.cpu().numpy().reshape(-1)\n",
    "        predictions = np.where(probs > .5, 1, 0)\n",
    "\n",
    "        accuracy = np.where(target==predictions, 1, 0).sum()/len(predictions)\n",
    "        f1 = f1_score(target, predictions)\n",
    "\n",
    "        target_ = torch.tensor(target).float().reshape(-1, 1).to(\"cuda:0\")\n",
    "        loss_ = loss(pred, target_)\n",
    "        return loss_.item(), accuracy, f1\n",
    "\n",
    "  \n",
    "batch_size = 256\n",
    "n_updates = (len(X_train)//batch_size) + 1\n",
    "\n",
    "n_epochs = 10\n",
    "\n",
    "#To extract features, we'll set the target column on the input\n",
    "#equal to the majority class: <50k\n",
    "\n",
    "X_train2 = X_train.copy()\n",
    "X_train2['salary'] = ['<50k' for _ in X_train2['salary']]\n",
    "z_train = model.get_deep_stack_features(X_train2)\n",
    "\n",
    "Y_train = np.where(X_train['salary'].values == '<50k', 0, 1)\n",
    "\n",
    "X_test2 = X_val.copy()\n",
    "X_test2['salary'] = ['<50k' for _ in X_test2['salary']]\n",
    "z_test = model.get_deep_stack_features(X_test2)\n",
    "Y_test = np.where(X_val['salary'].values == '<50k', 0, 1)\n",
    "\n",
    "for j in range(n_epochs):\n",
    "    if j % 100 == 0:\n",
    "      print(f'{j} epochs complete...')\n",
    "    for i in range(n_updates):\n",
    "        step = i\n",
    "        start = int((step) * batch_size)\n",
    "        stop = int((step+1) * batch_size)\n",
    "        in_ = z_train[start:stop]\n",
    "        target = Y_train[start:stop]\n",
    "        do_step(classifier, optim, in_, target, loss)\n",
    "    decay.step()\n",
    "    bce_loss, accuracy, f1 = do_evaluation(classifier, z_test, Y_test, loss)\n",
    "print('\\nFinal results: ')\n",
    "print('validation loss: ', round(bce_loss, 4))\n",
    "print('validation accuracy: ', round(accuracy, 3))\n",
    "print('validation f1 score: ', round(f1, 3))"
   ]
  },
  {
   "cell_type": "markdown",
   "metadata": {
    "colab_type": "text",
    "id": "tHZrR9bY0WYP"
   },
   "source": [
    "# How We Handled the Target\n",
    "If you look at the above code, you'll see what we did to handle the target variable. We just set it to the majority class before inputting into the model - this gives us a test-agnostic way to encode our inputs for the classifier.<br><br>\n",
    "Of course, the best way to deal with this is to omit the target from your autoencoder training in the first place, but this serves as an example of how we can get around the issue if we want to predict a variable that our autoencoder is expecting.\n",
    "\n",
    "# Anomaly Detection\n",
    "Another great application of DAE is anomaly detection. Here's an intuition on how this works:<br><br>\n",
    "If we input a regular example, unaltered, into the DAE, we expect it to output a strong prediction for the input values. However, if the model sees an \"unusual\" example, it's going to be less certain. It may even return a strong prediction for different values than the input.<br><br>\n",
    "We can measure this uncertainty as the loss against the input example against the model output. This value can be interpreted as an anomaly score.<br><br>\n",
    "dfencoder AutoEncoders have a method to get this for you: .get_anomaly_score()"
   ]
  },
  {
   "cell_type": "code",
   "execution_count": 9,
   "metadata": {
    "colab": {
     "base_uri": "https://localhost:8080/",
     "height": 310
    },
    "colab_type": "code",
    "id": "rvPrmGjs0Q02",
    "outputId": "4d089b09-41bb-4522-8da1-d56f588d59c8"
   },
   "outputs": [
    {
     "name": "stderr",
     "output_type": "stream",
     "text": [
      "/home/alliedtoasters/miniconda3/envs/dfencoder/lib/python3.6/site-packages/ipykernel_launcher.py:2: SettingWithCopyWarning: \n",
      "A value is trying to be set on a copy of a slice from a DataFrame.\n",
      "Try using .loc[row_indexer,col_indexer] = value instead\n",
      "\n",
      "See the caveats in the documentation: http://pandas.pydata.org/pandas-docs/stable/user_guide/indexing.html#returning-a-view-versus-a-copy\n",
      "  \n"
     ]
    },
    {
     "data": {
      "text/html": [
       "<div>\n",
       "<style scoped>\n",
       "    .dataframe tbody tr th:only-of-type {\n",
       "        vertical-align: middle;\n",
       "    }\n",
       "\n",
       "    .dataframe tbody tr th {\n",
       "        vertical-align: top;\n",
       "    }\n",
       "\n",
       "    .dataframe thead th {\n",
       "        text-align: right;\n",
       "    }\n",
       "</style>\n",
       "<table border=\"1\" class=\"dataframe\">\n",
       "  <thead>\n",
       "    <tr style=\"text-align: right;\">\n",
       "      <th></th>\n",
       "      <th>age</th>\n",
       "      <th>workclass</th>\n",
       "      <th>fnlwgt</th>\n",
       "      <th>education</th>\n",
       "      <th>education-num</th>\n",
       "      <th>marital-status</th>\n",
       "      <th>occupation</th>\n",
       "      <th>relationship</th>\n",
       "      <th>race</th>\n",
       "      <th>sex</th>\n",
       "      <th>capital-gain</th>\n",
       "      <th>capital-loss</th>\n",
       "      <th>hours-per-week</th>\n",
       "      <th>native-country</th>\n",
       "      <th>salary</th>\n",
       "      <th>anomaly_score</th>\n",
       "    </tr>\n",
       "  </thead>\n",
       "  <tbody>\n",
       "    <tr>\n",
       "      <th>21004</th>\n",
       "      <td>32</td>\n",
       "      <td>Private</td>\n",
       "      <td>112137</td>\n",
       "      <td>Preschool</td>\n",
       "      <td>1.0</td>\n",
       "      <td>Married-civ-spouse</td>\n",
       "      <td>Machine-op-inspct</td>\n",
       "      <td>Wife</td>\n",
       "      <td>Asian-Pac-Islander</td>\n",
       "      <td>Female</td>\n",
       "      <td>4508</td>\n",
       "      <td>0</td>\n",
       "      <td>40</td>\n",
       "      <td>Cambodia</td>\n",
       "      <td>&lt;50k</td>\n",
       "      <td>2.853760</td>\n",
       "    </tr>\n",
       "    <tr>\n",
       "      <th>30271</th>\n",
       "      <td>38</td>\n",
       "      <td>Federal-gov</td>\n",
       "      <td>37683</td>\n",
       "      <td>Prof-school</td>\n",
       "      <td>15.0</td>\n",
       "      <td>Never-married</td>\n",
       "      <td>Prof-specialty</td>\n",
       "      <td>Not-in-family</td>\n",
       "      <td>Asian-Pac-Islander</td>\n",
       "      <td>Female</td>\n",
       "      <td>99999</td>\n",
       "      <td>0</td>\n",
       "      <td>57</td>\n",
       "      <td>Canada</td>\n",
       "      <td>&gt;=50k</td>\n",
       "      <td>2.785784</td>\n",
       "    </tr>\n",
       "    <tr>\n",
       "      <th>4538</th>\n",
       "      <td>24</td>\n",
       "      <td>NaN</td>\n",
       "      <td>151153</td>\n",
       "      <td>Some-college</td>\n",
       "      <td>10.0</td>\n",
       "      <td>Never-married</td>\n",
       "      <td>NaN</td>\n",
       "      <td>Not-in-family</td>\n",
       "      <td>Asian-Pac-Islander</td>\n",
       "      <td>Male</td>\n",
       "      <td>99999</td>\n",
       "      <td>0</td>\n",
       "      <td>50</td>\n",
       "      <td>South</td>\n",
       "      <td>&gt;=50k</td>\n",
       "      <td>2.648067</td>\n",
       "    </tr>\n",
       "    <tr>\n",
       "      <th>16673</th>\n",
       "      <td>75</td>\n",
       "      <td>Private</td>\n",
       "      <td>71898</td>\n",
       "      <td>Preschool</td>\n",
       "      <td>1.0</td>\n",
       "      <td>Never-married</td>\n",
       "      <td>Priv-house-serv</td>\n",
       "      <td>Not-in-family</td>\n",
       "      <td>Asian-Pac-Islander</td>\n",
       "      <td>Female</td>\n",
       "      <td>0</td>\n",
       "      <td>0</td>\n",
       "      <td>48</td>\n",
       "      <td>Philippines</td>\n",
       "      <td>&lt;50k</td>\n",
       "      <td>2.422363</td>\n",
       "    </tr>\n",
       "    <tr>\n",
       "      <th>26500</th>\n",
       "      <td>66</td>\n",
       "      <td>NaN</td>\n",
       "      <td>186061</td>\n",
       "      <td>Some-college</td>\n",
       "      <td>10.0</td>\n",
       "      <td>Widowed</td>\n",
       "      <td>NaN</td>\n",
       "      <td>Unmarried</td>\n",
       "      <td>Black</td>\n",
       "      <td>Female</td>\n",
       "      <td>0</td>\n",
       "      <td>4356</td>\n",
       "      <td>40</td>\n",
       "      <td>United-States</td>\n",
       "      <td>&lt;50k</td>\n",
       "      <td>2.324623</td>\n",
       "    </tr>\n",
       "  </tbody>\n",
       "</table>\n",
       "</div>"
      ],
      "text/plain": [
       "       age     workclass  fnlwgt      education  education-num  \\\n",
       "21004   32       Private  112137      Preschool            1.0   \n",
       "30271   38   Federal-gov   37683    Prof-school           15.0   \n",
       "4538    24           NaN  151153   Some-college           10.0   \n",
       "16673   75       Private   71898      Preschool            1.0   \n",
       "26500   66           NaN  186061   Some-college           10.0   \n",
       "\n",
       "            marital-status          occupation    relationship  \\\n",
       "21004   Married-civ-spouse   Machine-op-inspct            Wife   \n",
       "30271        Never-married      Prof-specialty   Not-in-family   \n",
       "4538         Never-married                 NaN   Not-in-family   \n",
       "16673        Never-married     Priv-house-serv   Not-in-family   \n",
       "26500              Widowed                 NaN       Unmarried   \n",
       "\n",
       "                      race      sex  capital-gain  capital-loss  \\\n",
       "21004   Asian-Pac-Islander   Female          4508             0   \n",
       "30271   Asian-Pac-Islander   Female         99999             0   \n",
       "4538    Asian-Pac-Islander     Male         99999             0   \n",
       "16673   Asian-Pac-Islander   Female             0             0   \n",
       "26500                Black   Female             0          4356   \n",
       "\n",
       "       hours-per-week  native-country salary  anomaly_score  \n",
       "21004              40        Cambodia   <50k       2.853760  \n",
       "30271              57          Canada  >=50k       2.785784  \n",
       "4538               50           South  >=50k       2.648067  \n",
       "16673              48     Philippines   <50k       2.422363  \n",
       "26500              40   United-States   <50k       2.324623  "
      ]
     },
     "execution_count": 9,
     "metadata": {},
     "output_type": "execute_result"
    }
   ],
   "source": [
    "scores = model.get_anomaly_score(X_val)\n",
    "X_val['anomaly_score'] = scores\n",
    "X_val.sort_values('anomaly_score', ascending=False).head()"
   ]
  },
  {
   "cell_type": "markdown",
   "metadata": {
    "colab_type": "text",
    "id": "68lvwJa6jz4J"
   },
   "source": [
    "If we look at the highest anomaly scores, we can try to guess about why these came out as anomalies. Alternatively, we can see what predictions the model made. Which brings us to the next application...\n",
    "# Imputation\n",
    "DAE are useful for imputation. To impute values, we can pass in an (incomplete) row and look at the model predictions; although the models train with a NaN value for categories, the .df_predict() method will return the maximum NON-NULL prediction as an imputed value. Let's see what the model outputs for the anomalous examples above:"
   ]
  },
  {
   "cell_type": "code",
   "execution_count": 10,
   "metadata": {
    "colab": {
     "base_uri": "https://localhost:8080/",
     "height": 293
    },
    "colab_type": "code",
    "id": "L6Qs8MSM2qEU",
    "outputId": "a1ed501e-a99d-4655-df35-cb2b59f181a7"
   },
   "outputs": [
    {
     "data": {
      "text/html": [
       "<div>\n",
       "<style scoped>\n",
       "    .dataframe tbody tr th:only-of-type {\n",
       "        vertical-align: middle;\n",
       "    }\n",
       "\n",
       "    .dataframe tbody tr th {\n",
       "        vertical-align: top;\n",
       "    }\n",
       "\n",
       "    .dataframe thead th {\n",
       "        text-align: right;\n",
       "    }\n",
       "</style>\n",
       "<table border=\"1\" class=\"dataframe\">\n",
       "  <thead>\n",
       "    <tr style=\"text-align: right;\">\n",
       "      <th></th>\n",
       "      <th>age</th>\n",
       "      <th>workclass</th>\n",
       "      <th>fnlwgt</th>\n",
       "      <th>education</th>\n",
       "      <th>education-num</th>\n",
       "      <th>marital-status</th>\n",
       "      <th>occupation</th>\n",
       "      <th>relationship</th>\n",
       "      <th>race</th>\n",
       "      <th>sex</th>\n",
       "      <th>capital-gain</th>\n",
       "      <th>capital-loss</th>\n",
       "      <th>hours-per-week</th>\n",
       "      <th>native-country</th>\n",
       "      <th>salary</th>\n",
       "      <th>anomaly_score</th>\n",
       "    </tr>\n",
       "  </thead>\n",
       "  <tbody>\n",
       "    <tr>\n",
       "      <th>21004</th>\n",
       "      <td>35.0</td>\n",
       "      <td>Private</td>\n",
       "      <td>196099.484375</td>\n",
       "      <td>HS-grad</td>\n",
       "      <td>6.0</td>\n",
       "      <td>Married-civ-spouse</td>\n",
       "      <td>Machine-op-inspct</td>\n",
       "      <td>Husband</td>\n",
       "      <td>White</td>\n",
       "      <td>Male</td>\n",
       "      <td>0.0</td>\n",
       "      <td>0.0</td>\n",
       "      <td>40.0</td>\n",
       "      <td>United-States</td>\n",
       "      <td>&lt;50k</td>\n",
       "      <td>2.853760</td>\n",
       "    </tr>\n",
       "    <tr>\n",
       "      <th>30271</th>\n",
       "      <td>38.0</td>\n",
       "      <td>Private</td>\n",
       "      <td>187420.921875</td>\n",
       "      <td>Bachelors</td>\n",
       "      <td>13.0</td>\n",
       "      <td>Never-married</td>\n",
       "      <td>Prof-specialty</td>\n",
       "      <td>Not-in-family</td>\n",
       "      <td>White</td>\n",
       "      <td>Male</td>\n",
       "      <td>0.0</td>\n",
       "      <td>0.0</td>\n",
       "      <td>42.0</td>\n",
       "      <td>United-States</td>\n",
       "      <td>&gt;=50k</td>\n",
       "      <td>2.785784</td>\n",
       "    </tr>\n",
       "    <tr>\n",
       "      <th>4538</th>\n",
       "      <td>35.0</td>\n",
       "      <td>Private</td>\n",
       "      <td>192660.156250</td>\n",
       "      <td>Some-college</td>\n",
       "      <td>10.0</td>\n",
       "      <td>Never-married</td>\n",
       "      <td>Exec-managerial</td>\n",
       "      <td>Not-in-family</td>\n",
       "      <td>White</td>\n",
       "      <td>Male</td>\n",
       "      <td>0.0</td>\n",
       "      <td>0.0</td>\n",
       "      <td>40.0</td>\n",
       "      <td>United-States</td>\n",
       "      <td>&lt;50k</td>\n",
       "      <td>2.648067</td>\n",
       "    </tr>\n",
       "    <tr>\n",
       "      <th>16673</th>\n",
       "      <td>43.0</td>\n",
       "      <td>Private</td>\n",
       "      <td>204043.343750</td>\n",
       "      <td>HS-grad</td>\n",
       "      <td>3.0</td>\n",
       "      <td>Never-married</td>\n",
       "      <td>Other-service</td>\n",
       "      <td>Not-in-family</td>\n",
       "      <td>White</td>\n",
       "      <td>Male</td>\n",
       "      <td>0.0</td>\n",
       "      <td>0.0</td>\n",
       "      <td>40.0</td>\n",
       "      <td>Mexico</td>\n",
       "      <td>&lt;50k</td>\n",
       "      <td>2.422363</td>\n",
       "    </tr>\n",
       "    <tr>\n",
       "      <th>26500</th>\n",
       "      <td>43.0</td>\n",
       "      <td>Private</td>\n",
       "      <td>184508.359375</td>\n",
       "      <td>Some-college</td>\n",
       "      <td>10.0</td>\n",
       "      <td>Divorced</td>\n",
       "      <td>Adm-clerical</td>\n",
       "      <td>Not-in-family</td>\n",
       "      <td>White</td>\n",
       "      <td>Female</td>\n",
       "      <td>0.0</td>\n",
       "      <td>0.0</td>\n",
       "      <td>40.0</td>\n",
       "      <td>United-States</td>\n",
       "      <td>&lt;50k</td>\n",
       "      <td>2.324623</td>\n",
       "    </tr>\n",
       "  </tbody>\n",
       "</table>\n",
       "</div>"
      ],
      "text/plain": [
       "        age workclass         fnlwgt      education  education-num  \\\n",
       "21004  35.0   Private  196099.484375        HS-grad            6.0   \n",
       "30271  38.0   Private  187420.921875      Bachelors           13.0   \n",
       "4538   35.0   Private  192660.156250   Some-college           10.0   \n",
       "16673  43.0   Private  204043.343750        HS-grad            3.0   \n",
       "26500  43.0   Private  184508.359375   Some-college           10.0   \n",
       "\n",
       "            marital-status          occupation    relationship    race  \\\n",
       "21004   Married-civ-spouse   Machine-op-inspct         Husband   White   \n",
       "30271        Never-married      Prof-specialty   Not-in-family   White   \n",
       "4538         Never-married     Exec-managerial   Not-in-family   White   \n",
       "16673        Never-married       Other-service   Not-in-family   White   \n",
       "26500             Divorced        Adm-clerical   Not-in-family   White   \n",
       "\n",
       "           sex  capital-gain  capital-loss  hours-per-week  native-country  \\\n",
       "21004     Male           0.0           0.0            40.0   United-States   \n",
       "30271     Male           0.0           0.0            42.0   United-States   \n",
       "4538      Male           0.0           0.0            40.0   United-States   \n",
       "16673     Male           0.0           0.0            40.0          Mexico   \n",
       "26500   Female           0.0           0.0            40.0   United-States   \n",
       "\n",
       "      salary  anomaly_score  \n",
       "21004   <50k       2.853760  \n",
       "30271  >=50k       2.785784  \n",
       "4538    <50k       2.648067  \n",
       "16673   <50k       2.422363  \n",
       "26500   <50k       2.324623  "
      ]
     },
     "execution_count": 10,
     "metadata": {},
     "output_type": "execute_result"
    }
   ],
   "source": [
    "imputed_values = model.df_predict(X_val.drop(columns='anomaly_score'))\n",
    "imputed_values['anomaly_score'] = scores\n",
    "imputed_values.sort_values('anomaly_score', ascending=False).head()\n"
   ]
  },
  {
   "cell_type": "markdown",
   "metadata": {
    "colab_type": "text",
    "id": "AyGJa0Rg3jF4"
   },
   "source": [
    "Looking at the first row, apparently the country of origin, age, education-num, and fnlwgt values appear to be off. This feature may help us understand what's anomalous about the example.<br><br>\n",
    "We also see imputed values!\n",
    "# Exploratory Analysis\n",
    "Sometimes, we just want to know more about our data. DAE can help us do this. <br><br>\n",
    "Specifically, if you have any categorical variables in your dataframe, you can take a look at the category embeddings your model learned to represent different categories.<br><br>\n",
    "Category embeddings are similar to word embeddings like word2vec in that they take sparse data (one-hot encoded categories) and convert them to compact, dense vectors. These are for the convenience of machine learning systems - humans don't interpret vectors very intuitively.<br><br>\n",
    "However, one useful feature of category embeddings is category similarity. Given a category of interest, we can ask the model which categories are more similar, and which are less similar by looking at the cosine distance between embedding vectors."
   ]
  },
  {
   "cell_type": "code",
   "execution_count": 11,
   "metadata": {
    "colab": {
     "base_uri": "https://localhost:8080/",
     "height": 295
    },
    "colab_type": "code",
    "id": "9OYC-P6n3Y3F",
    "outputId": "a191fe48-bb81-486f-e464-8479b949436b"
   },
   "outputs": [
    {
     "name": "stdout",
     "output_type": "stream",
     "text": [
      "              category  distance from  Farming-fishing\n",
      "9      Farming-fishing                        0.000000\n",
      "5        Other-service                        0.229776\n",
      "12     Priv-house-serv                        0.311193\n",
      "3         Adm-clerical                        0.426267\n",
      "13        Armed-Forces                        0.434584\n",
      "1         Craft-repair                        0.467405\n",
      "10        Tech-support                        0.731700\n",
      "0       Prof-specialty                        0.933765\n",
      "8    Handlers-cleaners                        1.115649\n",
      "7     Transport-moving                        1.144628\n",
      "14              _other                        1.281213\n",
      "11     Protective-serv                        1.316269\n",
      "4                Sales                        1.419407\n",
      "2      Exec-managerial                        1.491318\n",
      "6    Machine-op-inspct                        1.656298\n"
     ]
    }
   ],
   "source": [
    "from scipy.spatial.distance import cosine\n",
    "\n",
    "def compare_category(model, feature, cat):\n",
    "    \"\"\"Ranks categories based on distance from category in question.\"\"\"\n",
    "    feature = model.categorical_fts[feature]\n",
    "    cats = feature['cats'] + ['_other']\n",
    "    scores = []\n",
    "    this_cat = cats.index(cat)\n",
    "    emb = feature['embedding']\n",
    "    \n",
    "    ft_embedding = emb.weight.data.cpu().numpy()[this_cat, :]\n",
    "    \n",
    "    for i, cat_ in enumerate(cats):\n",
    "        vec = emb.weight.data.cpu().numpy()[i, :]\n",
    "        similarity = cosine(ft_embedding, vec)\n",
    "        scores.append(similarity)\n",
    "        \n",
    "    scrnm = f'distance from {cat}'\n",
    "    result = pd.DataFrame(columns=['category', scrnm])\n",
    "    result['category'] = cats\n",
    "    result[scrnm] = scores\n",
    "    \n",
    "    print(result.sort_values(scrnm))\n",
    "    \n",
    "compare_category(model, 'occupation', ' Farming-fishing')"
   ]
  },
  {
   "cell_type": "markdown",
   "metadata": {
    "colab_type": "text",
    "id": "xRo6s08jE8Dw"
   },
   "source": [
    "Note the \"\\_other\" category. This is added by dfencoder to handle null values. <br><br>\n",
    "Are these similarities useful? Maybe! It's interesting to be able to look at some of the learned behaviors of the model in this way."
   ]
  },
  {
   "cell_type": "markdown",
   "metadata": {
    "colab_type": "text",
    "id": "U2uDdScY67bi"
   },
   "source": [
    "# Inference Mode\n",
    "The user may be interested in performing inference in \"real-time\". This inference mode completely avoids constructing a pandas dataframe, which carries significant latency overhead. We're building features for inference mode. Currently, only extracting the \"deep stack\" features are supported but please, open an issue on github if you'd like us to implement something else (like anomaly score)."
   ]
  },
  {
   "cell_type": "code",
   "execution_count": 12,
   "metadata": {},
   "outputs": [
    {
     "name": "stdout",
     "output_type": "stream",
     "text": [
      "In a production environment, we might see this data in json format:\n",
      "{\"age\":58,\"workclass\":\" Local-gov\",\"fnlwgt\":156649,\"education\":\" 1st-4th\",\"education-num\":2.0,\"marital-status\":\" Widowed\",\"occupation\":\" Handlers-cleaners\",\"relationship\":\" Unmarried\",\"race\":\" Black\",\"sex\":\" Male\",\"capital-gain\":0,\"capital-loss\":0,\"hours-per-week\":40,\"native-country\":\" United-States\",\"salary\":\"<50k\"}\n",
      "we get the deep stack features:\n",
      "tensor([[0.0000, 0.0000, 0.0000,  ..., 0.0000, 2.2359, 0.0000]],\n",
      "       device='cuda:0')\n",
      "torch.Size([1, 1536])\n"
     ]
    }
   ],
   "source": [
    "#get a json-serialized record from our dataset.\n",
    "record = df.sample().iloc[0].to_json()\n",
    "print(\"In a production environment, we might see this data in json format:\")\n",
    "print(record)\n",
    "#argument can be either a json string or a dict\n",
    "z = model.get_deep_stack_features_json(record)\n",
    "print('we get the deep stack features:')\n",
    "print(z)\n",
    "print(z.shape)"
   ]
  }
 ],
 "metadata": {
  "accelerator": "GPU",
  "colab": {
   "collapsed_sections": [],
   "name": "demo.ipynb",
   "provenance": [],
   "version": "0.3.2"
  },
  "kernelspec": {
   "display_name": "Python 3",
   "language": "python",
   "name": "python3"
  },
  "language_info": {
   "codemirror_mode": {
    "name": "ipython",
    "version": 3
   },
   "file_extension": ".py",
   "mimetype": "text/x-python",
   "name": "python",
   "nbconvert_exporter": "python",
   "pygments_lexer": "ipython3",
   "version": "3.6.13"
  }
 },
 "nbformat": 4,
 "nbformat_minor": 1
}
