{
 "cells": [
  {
   "cell_type": "markdown",
   "metadata": {
    "colab_type": "text",
    "id": "Ksu36-qh9uON"
   },
   "source": [
    "# Reproducing Porto Seguro Kaggle-Winning Model\n",
    "This notebook has been written specially to run in a Google Colab environment with its hardware limitations. If you have a more powerful system, you should try to modify this notebook to make things run exactly as specified by the Kaggle champion!\n",
    "## Installing Libraries and Downloading Data\n",
    "In Colab, you'll only need to install dfencoder. Dependencies are already installed. <br><br>\n",
    "I've placed the data on github for easy access in this example."
   ]
  },
  {
   "cell_type": "code",
   "execution_count": 1,
   "metadata": {
    "colab": {
     "base_uri": "https://localhost:8080/",
     "height": 208
    },
    "colab_type": "code",
    "id": "AfawBLqoSsQW",
    "outputId": "6147d803-afb2-47b5-c75d-dcba763b326e"
   },
   "outputs": [
    {
     "name": "stdout",
     "output_type": "stream",
     "text": [
      "Requirement already satisfied: dfencoder in /usr/local/lib/python3.6/dist-packages (0.0.32)\n",
      "Requirement already satisfied: tqdm in /usr/local/lib/python3.6/dist-packages (from dfencoder) (4.28.1)\n",
      "Requirement already satisfied: scikit-learn in /usr/local/lib/python3.6/dist-packages (from dfencoder) (0.21.2)\n",
      "Requirement already satisfied: torch in /usr/local/lib/python3.6/dist-packages (from dfencoder) (1.1.0)\n",
      "Requirement already satisfied: pandas in /usr/local/lib/python3.6/dist-packages (from dfencoder) (0.24.2)\n",
      "Requirement already satisfied: numpy in /usr/local/lib/python3.6/dist-packages (from dfencoder) (1.16.4)\n",
      "Requirement already satisfied: scipy>=0.17.0 in /usr/local/lib/python3.6/dist-packages (from scikit-learn->dfencoder) (1.3.0)\n",
      "Requirement already satisfied: joblib>=0.11 in /usr/local/lib/python3.6/dist-packages (from scikit-learn->dfencoder) (0.13.2)\n",
      "Requirement already satisfied: pytz>=2011k in /usr/local/lib/python3.6/dist-packages (from pandas->dfencoder) (2018.9)\n",
      "Requirement already satisfied: python-dateutil>=2.5.0 in /usr/local/lib/python3.6/dist-packages (from pandas->dfencoder) (2.5.3)\n",
      "Requirement already satisfied: six>=1.5 in /usr/local/lib/python3.6/dist-packages (from python-dateutil>=2.5.0->pandas->dfencoder) (1.12.0)\n"
     ]
    }
   ],
   "source": [
    "!pip install dfencoder"
   ]
  },
  {
   "cell_type": "code",
   "execution_count": 2,
   "metadata": {
    "colab": {
     "base_uri": "https://localhost:8080/",
     "height": 573
    },
    "colab_type": "code",
    "id": "zCbPxFJ8Tkkh",
    "outputId": "c21db427-1bee-4891-85b7-c1790fba3f55"
   },
   "outputs": [
    {
     "name": "stdout",
     "output_type": "stream",
     "text": [
      "--2019-06-26 23:28:53--  https://github.com/AlliedToasters/public_data/raw/master/test.7z\n",
      "Resolving github.com (github.com)... 192.30.253.113\n",
      "Connecting to github.com (github.com)|192.30.253.113|:443... connected.\n",
      "HTTP request sent, awaiting response... 302 Found\n",
      "Location: https://raw.githubusercontent.com/AlliedToasters/public_data/master/test.7z [following]\n",
      "--2019-06-26 23:28:53--  https://raw.githubusercontent.com/AlliedToasters/public_data/master/test.7z\n",
      "Resolving raw.githubusercontent.com (raw.githubusercontent.com)... 151.101.0.133, 151.101.64.133, 151.101.128.133, ...\n",
      "Connecting to raw.githubusercontent.com (raw.githubusercontent.com)|151.101.0.133|:443... connected.\n",
      "HTTP request sent, awaiting response... 200 OK\n",
      "Length: 25235310 (24M) [application/octet-stream]\n",
      "Saving to: ‘test.7z’\n",
      "\n",
      "test.7z             100%[===================>]  24.07M   148MB/s    in 0.2s    \n",
      "\n",
      "2019-06-26 23:28:54 (148 MB/s) - ‘test.7z’ saved [25235310/25235310]\n",
      "\n",
      "--2019-06-26 23:28:55--  https://github.com/AlliedToasters/public_data/raw/master/train.7z\n",
      "Resolving github.com (github.com)... 192.30.253.113\n",
      "Connecting to github.com (github.com)|192.30.253.113|:443... connected.\n",
      "HTTP request sent, awaiting response... 302 Found\n",
      "Location: https://raw.githubusercontent.com/AlliedToasters/public_data/master/train.7z [following]\n",
      "--2019-06-26 23:28:55--  https://raw.githubusercontent.com/AlliedToasters/public_data/master/train.7z\n",
      "Resolving raw.githubusercontent.com (raw.githubusercontent.com)... 151.101.0.133, 151.101.64.133, 151.101.128.133, ...\n",
      "Connecting to raw.githubusercontent.com (raw.githubusercontent.com)|151.101.0.133|:443... connected.\n",
      "HTTP request sent, awaiting response... 200 OK\n",
      "Length: 17022819 (16M) [application/octet-stream]\n",
      "Saving to: ‘train.7z’\n",
      "\n",
      "train.7z            100%[===================>]  16.23M  --.-KB/s    in 0.1s    \n",
      "\n",
      "2019-06-26 23:28:56 (122 MB/s) - ‘train.7z’ saved [17022819/17022819]\n",
      "\n"
     ]
    }
   ],
   "source": [
    "!wget https://github.com/AlliedToasters/public_data/raw/master/test.7z\n",
    "!wget https://github.com/AlliedToasters/public_data/raw/master/train.7z"
   ]
  },
  {
   "cell_type": "code",
   "execution_count": 3,
   "metadata": {
    "colab": {
     "base_uri": "https://localhost:8080/",
     "height": 746
    },
    "colab_type": "code",
    "id": "cmKyhQBcTkZy",
    "outputId": "44691c28-9b8f-468e-97a2-95c17df69e8e"
   },
   "outputs": [
    {
     "name": "stdout",
     "output_type": "stream",
     "text": [
      "\n",
      "7-Zip [64] 16.02 : Copyright (c) 1999-2016 Igor Pavlov : 2016-05-21\n",
      "p7zip Version 16.02 (locale=en_US.UTF-8,Utf16=on,HugeFiles=on,64 bits,2 CPUs Intel(R) Xeon(R) CPU @ 2.30GHz (306F0),ASM,AES-NI)\n",
      "\n",
      "Scanning the drive for archives:\n",
      "  0M Scan\b\b\b\b\b\b\b\b\b         \b\b\b\b\b\b\b\b\b1 file, 25235310 bytes (25 MiB)\n",
      "\n",
      "Extracting archive: test.7z\n",
      "--\n",
      "Path = test.7z\n",
      "Type = 7z\n",
      "Physical Size = 25235310\n",
      "Headers Size = 122\n",
      "Method = LZMA2:24\n",
      "Solid = -\n",
      "Blocks = 1\n",
      "\n",
      "  0%\b\b\b\b    \b\b\b\b  9% - test.csv\b\b\b\b\b\b\b\b\b\b\b\b\b\b\b               \b\b\b\b\b\b\b\b\b\b\b\b\b\b\b 19% - test.csv\b\b\b\b\b\b\b\b\b\b\b\b\b\b\b               \b\b\b\b\b\b\b\b\b\b\b\b\b\b\b 29% - test.csv\b\b\b\b\b\b\b\b\b\b\b\b\b\b\b               \b\b\b\b\b\b\b\b\b\b\b\b\b\b\b 41% - test.csv\b\b\b\b\b\b\b\b\b\b\b\b\b\b\b               \b\b\b\b\b\b\b\b\b\b\b\b\b\b\b 53% - test.csv\b\b\b\b\b\b\b\b\b\b\b\b\b\b\b               \b\b\b\b\b\b\b\b\b\b\b\b\b\b\b 62% - test.csv\b\b\b\b\b\b\b\b\b\b\b\b\b\b\b               \b\b\b\b\b\b\b\b\b\b\b\b\b\b\b 73% - test.csv\b\b\b\b\b\b\b\b\b\b\b\b\b\b\b               \b\b\b\b\b\b\b\b\b\b\b\b\b\b\b 82% - test.csv\b\b\b\b\b\b\b\b\b\b\b\b\b\b\b               \b\b\b\b\b\b\b\b\b\b\b\b\b\b\b 92% - test.csv\b\b\b\b\b\b\b\b\b\b\b\b\b\b\b               \b\b\b\b\b\b\b\b\b\b\b\b\b\b\bEverything is Ok\n",
      "\n",
      "Size:       172006681\n",
      "Compressed: 25235310\n",
      "\n",
      "7-Zip [64] 16.02 : Copyright (c) 1999-2016 Igor Pavlov : 2016-05-21\n",
      "p7zip Version 16.02 (locale=en_US.UTF-8,Utf16=on,HugeFiles=on,64 bits,2 CPUs Intel(R) Xeon(R) CPU @ 2.30GHz (306F0),ASM,AES-NI)\n",
      "\n",
      "Scanning the drive for archives:\n",
      "  0M Scan\b\b\b\b\b\b\b\b\b         \b\b\b\b\b\b\b\b\b1 file, 17022819 bytes (17 MiB)\n",
      "\n",
      "Extracting archive: train.7z\n",
      "--\n",
      "Path = train.7z\n",
      "Type = 7z\n",
      "Physical Size = 17022819\n",
      "Headers Size = 122\n",
      "Method = LZMA2:24\n",
      "Solid = -\n",
      "Blocks = 1\n",
      "\n",
      "  0%\b\b\b\b    \b\b\b\b 17% - train.csv\b\b\b\b\b\b\b\b\b\b\b\b\b\b\b\b                \b\b\b\b\b\b\b\b\b\b\b\b\b\b\b\b 36% - train.csv\b\b\b\b\b\b\b\b\b\b\b\b\b\b\b\b                \b\b\b\b\b\b\b\b\b\b\b\b\b\b\b\b 54% - train.csv\b\b\b\b\b\b\b\b\b\b\b\b\b\b\b\b                \b\b\b\b\b\b\b\b\b\b\b\b\b\b\b\b 72% - train.csv\b\b\b\b\b\b\b\b\b\b\b\b\b\b\b\b                \b\b\b\b\b\b\b\b\b\b\b\b\b\b\b\b 86% - train.csv\b\b\b\b\b\b\b\b\b\b\b\b\b\b\b\b                \b\b\b\b\b\b\b\b\b\b\b\b\b\b\b\bEverything is Ok\n",
      "\n",
      "Size:       115852544\n",
      "Compressed: 17022819\n"
     ]
    }
   ],
   "source": [
    "#unzip the data\n",
    "!7z x test.7z\n",
    "!7z x train.7z"
   ]
  },
  {
   "cell_type": "code",
   "execution_count": 0,
   "metadata": {
    "colab": {},
    "colab_type": "code",
    "id": "7vjRzPjZTo_f"
   },
   "outputs": [],
   "source": [
    "#import libraries and load data\n",
    "import matplotlib.pyplot as plt\n",
    "import seaborn as sns\n",
    "sns.set()\n",
    "\n",
    "import pandas as pd\n",
    "from dfencoder import AutoEncoder\n",
    "\n",
    "train = pd.read_csv('train.csv')\n",
    "test = pd.read_csv('test.csv')"
   ]
  },
  {
   "cell_type": "markdown",
   "metadata": {
    "colab_type": "text",
    "id": "G0jY32Xv-ZMY"
   },
   "source": [
    "# Data Processing\n",
    "If you read the solution carefully, you'll notice a few odd things:\n",
    " - Michael one-hot encoded the categorical variables and then treated them as *numeric* variables. That is, he used MSE as a loss during the DAE representation learning phase.\n",
    " - He left the categorical columns in the dataset and apparently treated them as numeric as well, applying the same scaling he did to other numeric columns (except the one-hot columns).<br><br>"
   ]
  },
  {
   "cell_type": "markdown",
   "metadata": {
    "colab_type": "text",
    "id": "hlKBwg_o_Deh"
   },
   "source": [
    "\n",
    " These preprocessing steps will reproduce Michael's."
   ]
  },
  {
   "cell_type": "code",
   "execution_count": 0,
   "metadata": {
    "colab": {},
    "colab_type": "code",
    "id": "3XrAPO4VT4tW"
   },
   "outputs": [],
   "source": [
    "#generate lists of column names so we can treat them differently.\n",
    "to_remove = ['id']\n",
    "binary = []\n",
    "cats = []\n",
    "\n",
    "for col in train.columns:\n",
    "    if 'calc' in col:\n",
    "        to_remove.append(col)\n",
    "    elif 'bin' in col:\n",
    "        binary.append(col)\n",
    "    elif 'cat' in col:\n",
    "        cats.append(col)"
   ]
  },
  {
   "cell_type": "code",
   "execution_count": 0,
   "metadata": {
    "colab": {},
    "colab_type": "code",
    "id": "ZTSaY_I9UtO2"
   },
   "outputs": [],
   "source": [
    "#drop undesired columns.\n",
    "X_train = train.drop(columns=to_remove+['target'])\n",
    "Y_train = train['target']"
   ]
  },
  {
   "cell_type": "code",
   "execution_count": 0,
   "metadata": {
    "colab": {},
    "colab_type": "code",
    "id": "BseY1vE6U8dH"
   },
   "outputs": [],
   "source": [
    "X_test = test.drop(columns=to_remove)"
   ]
  },
  {
   "cell_type": "code",
   "execution_count": 0,
   "metadata": {
    "colab": {},
    "colab_type": "code",
    "id": "TzzdWNgFLj-b"
   },
   "outputs": [],
   "source": [
    "#do our one-hot encoding, naming new columns.\n",
    "for cat in cats:\n",
    "    ohe = pd.get_dummies(X_test[cat])\n",
    "    ohe_columns = [cat + \"_ohe_\" + str(i) for i in ohe.columns]\n",
    "    ohe.columns = ohe_columns\n",
    "    X_test = pd.concat([X_test, ohe], axis=1)\n",
    "\n",
    "    ohe = pd.get_dummies(X_train[cat])\n",
    "    ohe.columns = ohe_columns\n",
    "    X_train = pd.concat([X_train, ohe], axis=1)\n",
    "\n",
    "    binary += ohe_columns"
   ]
  },
  {
   "cell_type": "code",
   "execution_count": 0,
   "metadata": {
    "colab": {},
    "colab_type": "code",
    "id": "kbbb2ixMVDRG"
   },
   "outputs": [],
   "source": [
    "#set all column types to numeric\n",
    "for col in X_train.columns:\n",
    "    if col in binary:\n",
    "        X_train[col] = X_train[col].astype(int)\n",
    "        X_test[col] = X_test[col].astype(int)\n",
    "  "
   ]
  },
  {
   "cell_type": "code",
   "execution_count": 10,
   "metadata": {
    "colab": {
     "base_uri": "https://localhost:8080/",
     "height": 256
    },
    "colab_type": "code",
    "id": "MQ4u9RDwVa34",
    "outputId": "41b1a964-ad35-4872-99e3-8298b7796ea6"
   },
   "outputs": [
    {
     "data": {
      "text/html": [
       "<div>\n",
       "<style scoped>\n",
       "    .dataframe tbody tr th:only-of-type {\n",
       "        vertical-align: middle;\n",
       "    }\n",
       "\n",
       "    .dataframe tbody tr th {\n",
       "        vertical-align: top;\n",
       "    }\n",
       "\n",
       "    .dataframe thead th {\n",
       "        text-align: right;\n",
       "    }\n",
       "</style>\n",
       "<table border=\"1\" class=\"dataframe\">\n",
       "  <thead>\n",
       "    <tr style=\"text-align: right;\">\n",
       "      <th></th>\n",
       "      <th>ps_ind_01</th>\n",
       "      <th>ps_ind_02_cat</th>\n",
       "      <th>ps_ind_03</th>\n",
       "      <th>ps_ind_04_cat</th>\n",
       "      <th>ps_ind_05_cat</th>\n",
       "      <th>ps_ind_06_bin</th>\n",
       "      <th>ps_ind_07_bin</th>\n",
       "      <th>ps_ind_08_bin</th>\n",
       "      <th>ps_ind_09_bin</th>\n",
       "      <th>ps_ind_10_bin</th>\n",
       "      <th>ps_ind_11_bin</th>\n",
       "      <th>ps_ind_12_bin</th>\n",
       "      <th>ps_ind_13_bin</th>\n",
       "      <th>ps_ind_14</th>\n",
       "      <th>ps_ind_15</th>\n",
       "      <th>ps_ind_16_bin</th>\n",
       "      <th>ps_ind_17_bin</th>\n",
       "      <th>ps_ind_18_bin</th>\n",
       "      <th>ps_reg_01</th>\n",
       "      <th>ps_reg_02</th>\n",
       "      <th>ps_reg_03</th>\n",
       "      <th>ps_car_01_cat</th>\n",
       "      <th>ps_car_02_cat</th>\n",
       "      <th>ps_car_03_cat</th>\n",
       "      <th>ps_car_04_cat</th>\n",
       "      <th>ps_car_05_cat</th>\n",
       "      <th>ps_car_06_cat</th>\n",
       "      <th>ps_car_07_cat</th>\n",
       "      <th>ps_car_08_cat</th>\n",
       "      <th>ps_car_09_cat</th>\n",
       "      <th>ps_car_10_cat</th>\n",
       "      <th>ps_car_11_cat</th>\n",
       "      <th>ps_car_11</th>\n",
       "      <th>ps_car_12</th>\n",
       "      <th>ps_car_13</th>\n",
       "      <th>ps_car_14</th>\n",
       "      <th>ps_car_15</th>\n",
       "      <th>ps_ind_02_cat_ohe_-1</th>\n",
       "      <th>ps_ind_02_cat_ohe_1</th>\n",
       "      <th>ps_ind_02_cat_ohe_2</th>\n",
       "      <th>...</th>\n",
       "      <th>ps_car_11_cat_ohe_65</th>\n",
       "      <th>ps_car_11_cat_ohe_66</th>\n",
       "      <th>ps_car_11_cat_ohe_67</th>\n",
       "      <th>ps_car_11_cat_ohe_68</th>\n",
       "      <th>ps_car_11_cat_ohe_69</th>\n",
       "      <th>ps_car_11_cat_ohe_70</th>\n",
       "      <th>ps_car_11_cat_ohe_71</th>\n",
       "      <th>ps_car_11_cat_ohe_72</th>\n",
       "      <th>ps_car_11_cat_ohe_73</th>\n",
       "      <th>ps_car_11_cat_ohe_74</th>\n",
       "      <th>ps_car_11_cat_ohe_75</th>\n",
       "      <th>ps_car_11_cat_ohe_76</th>\n",
       "      <th>ps_car_11_cat_ohe_77</th>\n",
       "      <th>ps_car_11_cat_ohe_78</th>\n",
       "      <th>ps_car_11_cat_ohe_79</th>\n",
       "      <th>ps_car_11_cat_ohe_80</th>\n",
       "      <th>ps_car_11_cat_ohe_81</th>\n",
       "      <th>ps_car_11_cat_ohe_82</th>\n",
       "      <th>ps_car_11_cat_ohe_83</th>\n",
       "      <th>ps_car_11_cat_ohe_84</th>\n",
       "      <th>ps_car_11_cat_ohe_85</th>\n",
       "      <th>ps_car_11_cat_ohe_86</th>\n",
       "      <th>ps_car_11_cat_ohe_87</th>\n",
       "      <th>ps_car_11_cat_ohe_88</th>\n",
       "      <th>ps_car_11_cat_ohe_89</th>\n",
       "      <th>ps_car_11_cat_ohe_90</th>\n",
       "      <th>ps_car_11_cat_ohe_91</th>\n",
       "      <th>ps_car_11_cat_ohe_92</th>\n",
       "      <th>ps_car_11_cat_ohe_93</th>\n",
       "      <th>ps_car_11_cat_ohe_94</th>\n",
       "      <th>ps_car_11_cat_ohe_95</th>\n",
       "      <th>ps_car_11_cat_ohe_96</th>\n",
       "      <th>ps_car_11_cat_ohe_97</th>\n",
       "      <th>ps_car_11_cat_ohe_98</th>\n",
       "      <th>ps_car_11_cat_ohe_99</th>\n",
       "      <th>ps_car_11_cat_ohe_100</th>\n",
       "      <th>ps_car_11_cat_ohe_101</th>\n",
       "      <th>ps_car_11_cat_ohe_102</th>\n",
       "      <th>ps_car_11_cat_ohe_103</th>\n",
       "      <th>ps_car_11_cat_ohe_104</th>\n",
       "    </tr>\n",
       "  </thead>\n",
       "  <tbody>\n",
       "    <tr>\n",
       "      <th>0</th>\n",
       "      <td>2</td>\n",
       "      <td>2</td>\n",
       "      <td>5</td>\n",
       "      <td>1</td>\n",
       "      <td>0</td>\n",
       "      <td>0</td>\n",
       "      <td>1</td>\n",
       "      <td>0</td>\n",
       "      <td>0</td>\n",
       "      <td>0</td>\n",
       "      <td>0</td>\n",
       "      <td>0</td>\n",
       "      <td>0</td>\n",
       "      <td>0</td>\n",
       "      <td>11</td>\n",
       "      <td>0</td>\n",
       "      <td>1</td>\n",
       "      <td>0</td>\n",
       "      <td>0.7</td>\n",
       "      <td>0.2</td>\n",
       "      <td>0.718070</td>\n",
       "      <td>10</td>\n",
       "      <td>1</td>\n",
       "      <td>-1</td>\n",
       "      <td>0</td>\n",
       "      <td>1</td>\n",
       "      <td>4</td>\n",
       "      <td>1</td>\n",
       "      <td>0</td>\n",
       "      <td>0</td>\n",
       "      <td>1</td>\n",
       "      <td>12</td>\n",
       "      <td>2</td>\n",
       "      <td>0.400000</td>\n",
       "      <td>0.883679</td>\n",
       "      <td>0.370810</td>\n",
       "      <td>3.605551</td>\n",
       "      <td>0</td>\n",
       "      <td>0</td>\n",
       "      <td>1</td>\n",
       "      <td>...</td>\n",
       "      <td>0</td>\n",
       "      <td>0</td>\n",
       "      <td>0</td>\n",
       "      <td>0</td>\n",
       "      <td>0</td>\n",
       "      <td>0</td>\n",
       "      <td>0</td>\n",
       "      <td>0</td>\n",
       "      <td>0</td>\n",
       "      <td>0</td>\n",
       "      <td>0</td>\n",
       "      <td>0</td>\n",
       "      <td>0</td>\n",
       "      <td>0</td>\n",
       "      <td>0</td>\n",
       "      <td>0</td>\n",
       "      <td>0</td>\n",
       "      <td>0</td>\n",
       "      <td>0</td>\n",
       "      <td>0</td>\n",
       "      <td>0</td>\n",
       "      <td>0</td>\n",
       "      <td>0</td>\n",
       "      <td>0</td>\n",
       "      <td>0</td>\n",
       "      <td>0</td>\n",
       "      <td>0</td>\n",
       "      <td>0</td>\n",
       "      <td>0</td>\n",
       "      <td>0</td>\n",
       "      <td>0</td>\n",
       "      <td>0</td>\n",
       "      <td>0</td>\n",
       "      <td>0</td>\n",
       "      <td>0</td>\n",
       "      <td>0</td>\n",
       "      <td>0</td>\n",
       "      <td>0</td>\n",
       "      <td>0</td>\n",
       "      <td>0</td>\n",
       "    </tr>\n",
       "    <tr>\n",
       "      <th>1</th>\n",
       "      <td>1</td>\n",
       "      <td>1</td>\n",
       "      <td>7</td>\n",
       "      <td>0</td>\n",
       "      <td>0</td>\n",
       "      <td>0</td>\n",
       "      <td>0</td>\n",
       "      <td>1</td>\n",
       "      <td>0</td>\n",
       "      <td>0</td>\n",
       "      <td>0</td>\n",
       "      <td>0</td>\n",
       "      <td>0</td>\n",
       "      <td>0</td>\n",
       "      <td>3</td>\n",
       "      <td>0</td>\n",
       "      <td>0</td>\n",
       "      <td>1</td>\n",
       "      <td>0.8</td>\n",
       "      <td>0.4</td>\n",
       "      <td>0.766078</td>\n",
       "      <td>11</td>\n",
       "      <td>1</td>\n",
       "      <td>-1</td>\n",
       "      <td>0</td>\n",
       "      <td>-1</td>\n",
       "      <td>11</td>\n",
       "      <td>1</td>\n",
       "      <td>1</td>\n",
       "      <td>2</td>\n",
       "      <td>1</td>\n",
       "      <td>19</td>\n",
       "      <td>3</td>\n",
       "      <td>0.316228</td>\n",
       "      <td>0.618817</td>\n",
       "      <td>0.388716</td>\n",
       "      <td>2.449490</td>\n",
       "      <td>0</td>\n",
       "      <td>1</td>\n",
       "      <td>0</td>\n",
       "      <td>...</td>\n",
       "      <td>0</td>\n",
       "      <td>0</td>\n",
       "      <td>0</td>\n",
       "      <td>0</td>\n",
       "      <td>0</td>\n",
       "      <td>0</td>\n",
       "      <td>0</td>\n",
       "      <td>0</td>\n",
       "      <td>0</td>\n",
       "      <td>0</td>\n",
       "      <td>0</td>\n",
       "      <td>0</td>\n",
       "      <td>0</td>\n",
       "      <td>0</td>\n",
       "      <td>0</td>\n",
       "      <td>0</td>\n",
       "      <td>0</td>\n",
       "      <td>0</td>\n",
       "      <td>0</td>\n",
       "      <td>0</td>\n",
       "      <td>0</td>\n",
       "      <td>0</td>\n",
       "      <td>0</td>\n",
       "      <td>0</td>\n",
       "      <td>0</td>\n",
       "      <td>0</td>\n",
       "      <td>0</td>\n",
       "      <td>0</td>\n",
       "      <td>0</td>\n",
       "      <td>0</td>\n",
       "      <td>0</td>\n",
       "      <td>0</td>\n",
       "      <td>0</td>\n",
       "      <td>0</td>\n",
       "      <td>0</td>\n",
       "      <td>0</td>\n",
       "      <td>0</td>\n",
       "      <td>0</td>\n",
       "      <td>0</td>\n",
       "      <td>0</td>\n",
       "    </tr>\n",
       "    <tr>\n",
       "      <th>2</th>\n",
       "      <td>5</td>\n",
       "      <td>4</td>\n",
       "      <td>9</td>\n",
       "      <td>1</td>\n",
       "      <td>0</td>\n",
       "      <td>0</td>\n",
       "      <td>0</td>\n",
       "      <td>1</td>\n",
       "      <td>0</td>\n",
       "      <td>0</td>\n",
       "      <td>0</td>\n",
       "      <td>0</td>\n",
       "      <td>0</td>\n",
       "      <td>0</td>\n",
       "      <td>12</td>\n",
       "      <td>1</td>\n",
       "      <td>0</td>\n",
       "      <td>0</td>\n",
       "      <td>0.0</td>\n",
       "      <td>0.0</td>\n",
       "      <td>-1.000000</td>\n",
       "      <td>7</td>\n",
       "      <td>1</td>\n",
       "      <td>-1</td>\n",
       "      <td>0</td>\n",
       "      <td>-1</td>\n",
       "      <td>14</td>\n",
       "      <td>1</td>\n",
       "      <td>1</td>\n",
       "      <td>2</td>\n",
       "      <td>1</td>\n",
       "      <td>60</td>\n",
       "      <td>1</td>\n",
       "      <td>0.316228</td>\n",
       "      <td>0.641586</td>\n",
       "      <td>0.347275</td>\n",
       "      <td>3.316625</td>\n",
       "      <td>0</td>\n",
       "      <td>0</td>\n",
       "      <td>0</td>\n",
       "      <td>...</td>\n",
       "      <td>0</td>\n",
       "      <td>0</td>\n",
       "      <td>0</td>\n",
       "      <td>0</td>\n",
       "      <td>0</td>\n",
       "      <td>0</td>\n",
       "      <td>0</td>\n",
       "      <td>0</td>\n",
       "      <td>0</td>\n",
       "      <td>0</td>\n",
       "      <td>0</td>\n",
       "      <td>0</td>\n",
       "      <td>0</td>\n",
       "      <td>0</td>\n",
       "      <td>0</td>\n",
       "      <td>0</td>\n",
       "      <td>0</td>\n",
       "      <td>0</td>\n",
       "      <td>0</td>\n",
       "      <td>0</td>\n",
       "      <td>0</td>\n",
       "      <td>0</td>\n",
       "      <td>0</td>\n",
       "      <td>0</td>\n",
       "      <td>0</td>\n",
       "      <td>0</td>\n",
       "      <td>0</td>\n",
       "      <td>0</td>\n",
       "      <td>0</td>\n",
       "      <td>0</td>\n",
       "      <td>0</td>\n",
       "      <td>0</td>\n",
       "      <td>0</td>\n",
       "      <td>0</td>\n",
       "      <td>0</td>\n",
       "      <td>0</td>\n",
       "      <td>0</td>\n",
       "      <td>0</td>\n",
       "      <td>0</td>\n",
       "      <td>0</td>\n",
       "    </tr>\n",
       "    <tr>\n",
       "      <th>3</th>\n",
       "      <td>0</td>\n",
       "      <td>1</td>\n",
       "      <td>2</td>\n",
       "      <td>0</td>\n",
       "      <td>0</td>\n",
       "      <td>1</td>\n",
       "      <td>0</td>\n",
       "      <td>0</td>\n",
       "      <td>0</td>\n",
       "      <td>0</td>\n",
       "      <td>0</td>\n",
       "      <td>0</td>\n",
       "      <td>0</td>\n",
       "      <td>0</td>\n",
       "      <td>8</td>\n",
       "      <td>1</td>\n",
       "      <td>0</td>\n",
       "      <td>0</td>\n",
       "      <td>0.9</td>\n",
       "      <td>0.2</td>\n",
       "      <td>0.580948</td>\n",
       "      <td>7</td>\n",
       "      <td>1</td>\n",
       "      <td>0</td>\n",
       "      <td>0</td>\n",
       "      <td>1</td>\n",
       "      <td>11</td>\n",
       "      <td>1</td>\n",
       "      <td>1</td>\n",
       "      <td>3</td>\n",
       "      <td>1</td>\n",
       "      <td>104</td>\n",
       "      <td>1</td>\n",
       "      <td>0.374166</td>\n",
       "      <td>0.542949</td>\n",
       "      <td>0.294958</td>\n",
       "      <td>2.000000</td>\n",
       "      <td>0</td>\n",
       "      <td>1</td>\n",
       "      <td>0</td>\n",
       "      <td>...</td>\n",
       "      <td>0</td>\n",
       "      <td>0</td>\n",
       "      <td>0</td>\n",
       "      <td>0</td>\n",
       "      <td>0</td>\n",
       "      <td>0</td>\n",
       "      <td>0</td>\n",
       "      <td>0</td>\n",
       "      <td>0</td>\n",
       "      <td>0</td>\n",
       "      <td>0</td>\n",
       "      <td>0</td>\n",
       "      <td>0</td>\n",
       "      <td>0</td>\n",
       "      <td>0</td>\n",
       "      <td>0</td>\n",
       "      <td>0</td>\n",
       "      <td>0</td>\n",
       "      <td>0</td>\n",
       "      <td>0</td>\n",
       "      <td>0</td>\n",
       "      <td>0</td>\n",
       "      <td>0</td>\n",
       "      <td>0</td>\n",
       "      <td>0</td>\n",
       "      <td>0</td>\n",
       "      <td>0</td>\n",
       "      <td>0</td>\n",
       "      <td>0</td>\n",
       "      <td>0</td>\n",
       "      <td>0</td>\n",
       "      <td>0</td>\n",
       "      <td>0</td>\n",
       "      <td>0</td>\n",
       "      <td>0</td>\n",
       "      <td>0</td>\n",
       "      <td>0</td>\n",
       "      <td>0</td>\n",
       "      <td>0</td>\n",
       "      <td>1</td>\n",
       "    </tr>\n",
       "    <tr>\n",
       "      <th>4</th>\n",
       "      <td>0</td>\n",
       "      <td>2</td>\n",
       "      <td>0</td>\n",
       "      <td>1</td>\n",
       "      <td>0</td>\n",
       "      <td>1</td>\n",
       "      <td>0</td>\n",
       "      <td>0</td>\n",
       "      <td>0</td>\n",
       "      <td>0</td>\n",
       "      <td>0</td>\n",
       "      <td>0</td>\n",
       "      <td>0</td>\n",
       "      <td>0</td>\n",
       "      <td>9</td>\n",
       "      <td>1</td>\n",
       "      <td>0</td>\n",
       "      <td>0</td>\n",
       "      <td>0.7</td>\n",
       "      <td>0.6</td>\n",
       "      <td>0.840759</td>\n",
       "      <td>11</td>\n",
       "      <td>1</td>\n",
       "      <td>-1</td>\n",
       "      <td>0</td>\n",
       "      <td>-1</td>\n",
       "      <td>14</td>\n",
       "      <td>1</td>\n",
       "      <td>1</td>\n",
       "      <td>2</td>\n",
       "      <td>1</td>\n",
       "      <td>82</td>\n",
       "      <td>3</td>\n",
       "      <td>0.316070</td>\n",
       "      <td>0.565832</td>\n",
       "      <td>0.365103</td>\n",
       "      <td>2.000000</td>\n",
       "      <td>0</td>\n",
       "      <td>0</td>\n",
       "      <td>1</td>\n",
       "      <td>...</td>\n",
       "      <td>0</td>\n",
       "      <td>0</td>\n",
       "      <td>0</td>\n",
       "      <td>0</td>\n",
       "      <td>0</td>\n",
       "      <td>0</td>\n",
       "      <td>0</td>\n",
       "      <td>0</td>\n",
       "      <td>0</td>\n",
       "      <td>0</td>\n",
       "      <td>0</td>\n",
       "      <td>0</td>\n",
       "      <td>0</td>\n",
       "      <td>0</td>\n",
       "      <td>0</td>\n",
       "      <td>0</td>\n",
       "      <td>0</td>\n",
       "      <td>1</td>\n",
       "      <td>0</td>\n",
       "      <td>0</td>\n",
       "      <td>0</td>\n",
       "      <td>0</td>\n",
       "      <td>0</td>\n",
       "      <td>0</td>\n",
       "      <td>0</td>\n",
       "      <td>0</td>\n",
       "      <td>0</td>\n",
       "      <td>0</td>\n",
       "      <td>0</td>\n",
       "      <td>0</td>\n",
       "      <td>0</td>\n",
       "      <td>0</td>\n",
       "      <td>0</td>\n",
       "      <td>0</td>\n",
       "      <td>0</td>\n",
       "      <td>0</td>\n",
       "      <td>0</td>\n",
       "      <td>0</td>\n",
       "      <td>0</td>\n",
       "      <td>0</td>\n",
       "    </tr>\n",
       "  </tbody>\n",
       "</table>\n",
       "<p>5 rows × 221 columns</p>\n",
       "</div>"
      ],
      "text/plain": [
       "   ps_ind_01  ps_ind_02_cat  ...  ps_car_11_cat_ohe_103  ps_car_11_cat_ohe_104\n",
       "0          2              2  ...                      0                      0\n",
       "1          1              1  ...                      0                      0\n",
       "2          5              4  ...                      0                      0\n",
       "3          0              1  ...                      0                      1\n",
       "4          0              2  ...                      0                      0\n",
       "\n",
       "[5 rows x 221 columns]"
      ]
     },
     "execution_count": 10,
     "metadata": {
      "tags": []
     },
     "output_type": "execute_result"
    }
   ],
   "source": [
    "#our dataframe should have 221 columns, all numeric.\n",
    "X_train.head()"
   ]
  },
  {
   "cell_type": "code",
   "execution_count": 0,
   "metadata": {
    "colab": {},
    "colab_type": "code",
    "id": "MyFhpSxg_kgl"
   },
   "outputs": [],
   "source": [
    "#dfencoder allows us to specify scaling behavior per-feature;\n",
    "#this dictionary will specify not to scale one-hot encoded features.\n",
    "scaler_spec = {ft:None for ft in binary}"
   ]
  },
  {
   "cell_type": "markdown",
   "metadata": {
    "colab_type": "text",
    "id": "f8aKqEHS_tav"
   },
   "source": [
    "# Hardware Limitations of Colab\n",
    "Unfortunately, the Google Colab environment does not have enough memory to hold both the train and test sets as expanded numeric dataframes.  Michael's system has 32 GB of memory, while we only have < 13 GB here.<br><br>\n",
    "For this reason, we'll only train our DAE on the train set, reserving a small sample of the test set for validation."
   ]
  },
  {
   "cell_type": "code",
   "execution_count": 0,
   "metadata": {
    "colab": {},
    "colab_type": "code",
    "id": "4XOuW3pDMMT4"
   },
   "outputs": [],
   "source": [
    "#validation sample\n",
    "X_val = X_test.sample(frac=.01)"
   ]
  },
  {
   "cell_type": "code",
   "execution_count": 13,
   "metadata": {
    "colab": {
     "base_uri": "https://localhost:8080/",
     "height": 34
    },
    "colab_type": "code",
    "id": "9maeAKfpRXwd",
    "outputId": "408d182c-ca82-46bc-85a5-acabe6259f20"
   },
   "outputs": [
    {
     "data": {
      "text/plain": [
       "36"
      ]
     },
     "execution_count": 13,
     "metadata": {
      "tags": []
     },
     "output_type": "execute_result"
    }
   ],
   "source": [
    "#save the encoded test set for later\n",
    "X_test.to_hdf('X_test.h5', key='stage', mode='w')\n",
    "\n",
    "\n",
    "\n",
    "#delete references to memory-consuming data\n",
    "import gc\n",
    "\n",
    "del train\n",
    "del test\n",
    "del X_test\n",
    "\n",
    "#remove objects from memory\n",
    "gc.collect()"
   ]
  },
  {
   "cell_type": "markdown",
   "metadata": {
    "colab_type": "text",
    "id": "QHDN1ZuSCnps"
   },
   "source": [
    "# Building the DAE\n",
    "We can follow Michael's description of his model to the letter. From the write-up:<br>\n",
    "![](https://raw.githubusercontent.com/AlliedToasters/dfencoder/master/demo_data/dae_arch.png?raw=true)<br><br>\n",
    "In dfencoder, this translates to:"
   ]
  },
  {
   "cell_type": "code",
   "execution_count": 0,
   "metadata": {
    "colab": {},
    "colab_type": "code",
    "id": "fVwgWyauVdSq"
   },
   "outputs": [],
   "source": [
    "encoder = AutoEncoder(\n",
    "    #input/output layers are implicit, so just these three...\n",
    "    encoder_layers=[1500, 1500, 1500],\n",
    "    decoder_layers=[],\n",
    "    lr=2.8e-3,\n",
    "    batch_size=128,\n",
    "    activation='relu',\n",
    "    lr_decay=.995,\n",
    "    #here's your swap noise\n",
    "    swap_p=.2,\n",
    "    scaler=scaler_spec,\n",
    "    optimizer='sgd',\n",
    "    verbose=False,\n",
    "    logger='ipynb'\n",
    ")"
   ]
  },
  {
   "cell_type": "markdown",
   "metadata": {
    "colab_type": "text",
    "id": "N_5XO4knDX_u"
   },
   "source": [
    "# Fitting\n",
    "Running 1000 epochs as specified takes a long time. It took Michael 5 hours, and this appears to take longer. Looks like we need to optimize the library. To be fair, Michael did everything in a compiled program in C++ ; in python we're carrying around a bunch of extra overhead. But, if you have the hardware and the patience, you can do it!"
   ]
  },
  {
   "cell_type": "code",
   "execution_count": 15,
   "metadata": {
    "colab": {
     "base_uri": "https://localhost:8080/",
     "height": 587
    },
    "colab_type": "code",
    "id": "Po_9jSx6WptW",
    "outputId": "26eb046f-9d6d-4631-f312-ed5c0837785c"
   },
   "outputs": [
    {
     "data": {
      "image/png": "[encoded data removed]",
      "text/plain": [
       "<Figure size 432x288 with 1 Axes>"
      ]
     },
     "metadata": {
      "tags": []
     },
     "output_type": "display_data"
    }
   ],
   "source": [
    "encoder.fit(X_train, val=X_val, epochs=200)"
   ]
  },
  {
   "cell_type": "markdown",
   "metadata": {
    "colab_type": "text",
    "id": "fHzT-t4EDzH6"
   },
   "source": [
    "# Classifier Model\n",
    "Creating the classifier model... From the write-up:<br>\n",
    "![](https://github.com/AlliedToasters/dfencoder/raw/master/demo_data/nn_arch.png?raw=true)<br><br>\n",
    "We can just whip this model up using pytorch (some ambiguity about \"regL2\" vs weight decay, possibly a factor of 2 error?  See [this article](https://bbabenko.github.io/weight-decay/). I would double the parameter but weight decay of .1 seems really high...):"
   ]
  },
  {
   "cell_type": "code",
   "execution_count": 0,
   "metadata": {
    "colab": {},
    "colab_type": "code",
    "id": "pWgv92lueY_h"
   },
   "outputs": [],
   "source": [
    "import torch\n",
    "\n",
    "class ClassifierModel(torch.nn.Module):\n",
    "  \n",
    "    def __init__(self, *args, **kwargs):\n",
    "        super(ClassifierModel, self).__init__(*args, **kwargs)\n",
    "        self.input_dropout = torch.nn.Dropout(.1)\n",
    "        self.input_layer = torch.nn.Linear(4500, 1000)\n",
    "        self.dropout = torch.nn.Dropout(.5)\n",
    "        self.dense1 = torch.nn.Linear(1000, 1000)\n",
    "        self.dense2 = torch.nn.Linear(1000, 1000)\n",
    "        self.output = torch.nn.Linear(1000, 1)\n",
    "    \n",
    "    def forward(self, x):\n",
    "        x = self.input_dropout(x)\n",
    "\n",
    "        x = self.input_layer(x)\n",
    "        x = torch.relu(x)\n",
    "        x = self.dropout(x)\n",
    "\n",
    "        x = self.dense1(x)\n",
    "        x = torch.relu(x)\n",
    "        x = self.dropout(x)\n",
    "\n",
    "        x = self.dense2(x)\n",
    "        x = torch.relu(x)\n",
    "        x = self.dropout(x)\n",
    "\n",
    "        x = self.output(x)\n",
    "        x = torch.sigmoid(x)\n",
    "        return x\n",
    "    \n",
    "    \n",
    "classifier = ClassifierModel()"
   ]
  },
  {
   "cell_type": "code",
   "execution_count": 0,
   "metadata": {
    "colab": {},
    "colab_type": "code",
    "id": "c1uJ5EX8GNIm"
   },
   "outputs": [],
   "source": [
    "optim = torch.optim.SGD(\n",
    "    classifier.parameters(),\n",
    "    lr=1e-4,\n",
    "    weight_decay=.05,\n",
    "    \n",
    ")\n",
    "\n",
    "decay = torch.optim.lr_scheduler.ExponentialLR(optim, .995)\n",
    "\n",
    "loss = torch.nn.modules.loss.BCELoss()"
   ]
  },
  {
   "cell_type": "code",
   "execution_count": 0,
   "metadata": {
    "colab": {},
    "colab_type": "code",
    "id": "jm0c55Z8LSlv"
   },
   "outputs": [],
   "source": [
    "classifier = classifier.to(\"cuda:0\")"
   ]
  },
  {
   "cell_type": "markdown",
   "metadata": {
    "colab_type": "text",
    "id": "ftziyukYEHcf"
   },
   "source": [
    "Saving memory has been a headache in colab... These calls free up RAM and GPU memory."
   ]
  },
  {
   "cell_type": "code",
   "execution_count": 19,
   "metadata": {
    "colab": {
     "base_uri": "https://localhost:8080/",
     "height": 34
    },
    "colab_type": "code",
    "id": "JxREdz-ghbOt",
    "outputId": "6624ea70-67f1-4b87-fda4-100a38428c2c"
   },
   "outputs": [
    {
     "data": {
      "text/plain": [
       "22543"
      ]
     },
     "execution_count": 19,
     "metadata": {
      "tags": []
     },
     "output_type": "execute_result"
    }
   ],
   "source": [
    "gc.collect()"
   ]
  },
  {
   "cell_type": "code",
   "execution_count": 0,
   "metadata": {
    "colab": {},
    "colab_type": "code",
    "id": "LsJ-_aTgAAg3"
   },
   "outputs": [],
   "source": [
    "torch.cuda.empty_cache()"
   ]
  },
  {
   "cell_type": "markdown",
   "metadata": {
    "colab_type": "text",
    "id": "46zmuXp7EQE9"
   },
   "source": [
    "# Training\n",
    "To speed things up, we can compute the deep stack features in big batches in advance. However, with our lack of memory, we can't do this all at once. To work around this, we'll split the data into thirds, computing latent features in \"megabatches\" during training. This seems to get the job done pretty quickly."
   ]
  },
  {
   "cell_type": "code",
   "execution_count": 21,
   "metadata": {
    "colab": {
     "base_uri": "https://localhost:8080/",
     "height": 1000
    },
    "colab_type": "code",
    "id": "Jy_Xa34nfgAY",
    "outputId": "2d044d03-c670-4436-9d19-ba2ca7b1fac9"
   },
   "outputs": [
    {
     "name": "stderr",
     "output_type": "stream",
     "text": [
      "100%|██████████| 4651/4651 [00:21<00:00, 212.16it/s]\n",
      "100%|██████████| 4651/4651 [00:21<00:00, 212.89it/s]\n",
      "100%|██████████| 4651/4651 [00:21<00:00, 393.97it/s]\n",
      "100%|██████████| 4651/4651 [00:21<00:00, 214.13it/s]\n",
      "100%|██████████| 4651/4651 [00:21<00:00, 213.34it/s]\n",
      "100%|██████████| 4651/4651 [00:21<00:00, 214.01it/s]\n",
      "100%|██████████| 4651/4651 [00:21<00:00, 212.78it/s]\n",
      "100%|██████████| 4651/4651 [00:21<00:00, 212.96it/s]\n",
      "100%|██████████| 4651/4651 [00:21<00:00, 214.34it/s]\n",
      "100%|██████████| 4651/4651 [00:21<00:00, 213.99it/s]\n",
      "100%|██████████| 4651/4651 [00:21<00:00, 213.95it/s]\n",
      "100%|██████████| 4651/4651 [00:21<00:00, 214.30it/s]\n"
     ]
    }
   ],
   "source": [
    "import tqdm\n",
    "from IPython.display import clear_output\n",
    "\n",
    "def do_step(classifier, optim, z, target, loss):\n",
    "    pred = classifier(z)\n",
    "    target = torch.tensor(target).float().reshape(-1, 1).to(\"cuda:0\")\n",
    "    loss_ = loss(pred, target)\n",
    "    amnt = loss_.item()\n",
    "    loss_.backward()\n",
    "    optim.step()\n",
    "    optim.zero_grad()\n",
    "    return amnt\n",
    "  \n",
    "batch_size = 128\n",
    "n_updates = (len(X_train)//batch_size) + 1\n",
    "\n",
    "n_megabatches = 3\n",
    "n_epochs = 150\n",
    "\n",
    "n_rows = len(X_train)\n",
    "\n",
    "res = n_rows/n_megabatches\n",
    "batches_per_megabatch = (res // batch_size) + 1\n",
    "megabatch_size = batches_per_megabatch * batch_size\n",
    "final_batch_size = n_rows - (n_megabatches - 1) * megabatch_size\n",
    "\n",
    "\n",
    "\n",
    "for epoch in range(n_epochs):\n",
    "    with tqdm.tqdm(total=n_updates) as bar:\n",
    "        for j in range(n_megabatches):\n",
    "            mega_start = int((j) * megabatch_size)\n",
    "            mega_stop = int((j+1) * megabatch_size)\n",
    "            slc = X_train.iloc[mega_start:mega_stop]\n",
    "            z = encoder.get_deep_stack_features(slc)\n",
    "            target_slc = Y_train.iloc[mega_start:mega_stop].values\n",
    "            if j == (n_megabatches-1):\n",
    "        steps = final_batch_size/batch_size\n",
    "        if final_batch_size % batch_size != 0:\n",
    "            steps += 1\n",
    "        else:\n",
    "            steps = batches_per_megabatch\n",
    "        steps = int(steps)\n",
    "        for i in range(steps):\n",
    "            step = i\n",
    "            start = int((step) * batch_size)\n",
    "            stop = int((step+1) * batch_size)\n",
    "            in_ = z[start:stop]\n",
    "            target = target_slc[start:stop]\n",
    "            do_step(classifier, optim, in_, target, loss)\n",
    "            bar.update(1)\n",
    "    decay.step()\n",
    "    del z\n",
    "    torch.cuda.empty_cache()"
   ]
  },
  {
   "cell_type": "markdown",
   "metadata": {
    "colab_type": "text",
    "id": "BJ5yj4ONGfvQ"
   },
   "source": [
    "# Inference\n",
    "Now we can get our predictions on the test set.."
   ]
  },
  {
   "cell_type": "code",
   "execution_count": 0,
   "metadata": {
    "colab": {},
    "colab_type": "code",
    "id": "zL2ltZ-JLEnE"
   },
   "outputs": [],
   "source": [
    "X_test = pd.read_hdf('X_test.h5')\n",
    "test = pd.read_csv('test.csv')\n",
    "ids = test['id'].values\n",
    "del test"
   ]
  },
  {
   "cell_type": "code",
   "execution_count": 0,
   "metadata": {
    "colab": {},
    "colab_type": "code",
    "id": "JXmaHl8BOJKz"
   },
   "outputs": [],
   "source": [
    "def do_inference(encoder, classifier, data):\n",
    "    z = torch.tensor(encoder.get_deep_stack_features(data)).to(\"cuda:0\")\n",
    "    output = classifier(z)\n",
    "    return output\n",
    "    "
   ]
  },
  {
   "cell_type": "code",
   "execution_count": 25,
   "metadata": {
    "colab": {
     "base_uri": "https://localhost:8080/",
     "height": 52
    },
    "colab_type": "code",
    "id": "HVC93zi6OvEJ",
    "outputId": "40d13523-fa1a-4d7c-dfbb-6c976f3a9445"
   },
   "outputs": [
    {
     "name": "stderr",
     "output_type": "stream",
     "text": [
      "\n",
      "100%|██████████| 436/436 [01:41<00:00,  4.37it/s]\u001b[A\n",
      "\u001b[A"
     ]
    }
   ],
   "source": [
    "eval_batch_size = 2048\n",
    "n_batches = (len(X_test)//eval_batch_size) + 1\n",
    "#n_batches = 10\n",
    "\n",
    "out = []\n",
    "\n",
    "with torch.no_grad():\n",
    "    for i in tqdm.trange(n_batches):\n",
    "        start = i * eval_batch_size\n",
    "        stop = (i+1) * eval_batch_size\n",
    "        slc = X_test.iloc[start:stop]\n",
    "        res = do_inference(encoder, classifier, slc)\n",
    "        out.append(res.reshape(-1))\n",
    "        clear_output()"
   ]
  },
  {
   "cell_type": "code",
   "execution_count": 0,
   "metadata": {
    "colab": {},
    "colab_type": "code",
    "id": "ttK77knnT3jw"
   },
   "outputs": [],
   "source": [
    "import numpy as np\n",
    "\n",
    "result = np.concatenate([vec.cpu().numpy() for vec in out])"
   ]
  },
  {
   "cell_type": "markdown",
   "metadata": {
    "colab_type": "text",
    "id": "vq33ahnLGmNI"
   },
   "source": [
    "# Formatting Data for Submission to Kaggle"
   ]
  },
  {
   "cell_type": "code",
   "execution_count": 0,
   "metadata": {
    "colab": {},
    "colab_type": "code",
    "id": "41NAcWwrVcIf"
   },
   "outputs": [],
   "source": [
    "to_submit = pd.DataFrame()\n",
    "to_submit['id'] = ids\n",
    "to_submit['target'] = result\n",
    "\n",
    "to_submit.to_csv('submission.csv', index=False, encoding='utf-8')"
   ]
  },
  {
   "cell_type": "markdown",
   "metadata": {
    "colab_type": "text",
    "id": "UOTpOT_sGqH5"
   },
   "source": [
    "# Submitting Directly to Kaggle with Kaggle API\n",
    "Just insert your username and key into the corresponding fields in the next cell and this will submit for you.<br>\n",
    "When I run this in Colab, I get an error message, but the dataset is received by Kaggle anyway! ¯\\\\_(ツ)_/¯"
   ]
  },
  {
   "cell_type": "code",
   "execution_count": 0,
   "metadata": {
    "colab": {},
    "colab_type": "code",
    "id": "MZFfA7ZrWwVY"
   },
   "outputs": [],
   "source": [
    "import os\n",
    "os.environ['KAGGLE_USERNAME'] = \"<YOUR USERNAME>\"\n",
    "os.environ['KAGGLE_KEY'] = \"<YOUR API KEY>\""
   ]
  },
  {
   "cell_type": "code",
   "execution_count": 29,
   "metadata": {
    "colab": {
     "base_uri": "https://localhost:8080/",
     "height": 139
    },
    "colab_type": "code",
    "id": "PgnPFpy_XCwY",
    "outputId": "4e44c517-a4a4-4237-ce1f-1cf91f771dba"
   },
   "outputs": [
    {
     "name": "stdout",
     "output_type": "stream",
     "text": [
      "100% 16.1M/16.1M [00:03<00:00, 5.21MB/s]\n",
      "Traceback (most recent call last):\n",
      "  File \"/usr/local/bin/kaggle\", line 10, in <module>\n",
      "    sys.exit(main())\n",
      "  File \"/usr/local/lib/python2.7/dist-packages/kaggle/cli.py\", line 64, in main\n",
      "    print(out, end='')\n",
      "UnicodeEncodeError: 'latin-1' codec can't encode character u'\\u2019' in position 38: ordinal not in range(256)\n"
     ]
    }
   ],
   "source": [
    "!kaggle competitions submit -c porto-seguro-safe-driver-prediction -f submission.csv -m test"
   ]
  },
  {
   "cell_type": "markdown",
   "metadata": {
    "colab_type": "text",
    "id": "soaaKHgBHIWQ"
   },
   "source": [
    "Run this code, modify it, and see if you can get to the top 1% on the leaderboard! Let me know if I missed anything or did anything wrong - so far I haven't been able to get a high score but I probably overlooked something."
   ]
  },
  {
   "cell_type": "code",
   "execution_count": 0,
   "metadata": {
    "colab": {},
    "colab_type": "code",
    "id": "H-M4r8wwHILy"
   },
   "outputs": [],
   "source": []
  },
  {
   "cell_type": "code",
   "execution_count": 0,
   "metadata": {
    "colab": {},
    "colab_type": "code",
    "id": "anGI0BJsnrCi"
   },
   "outputs": [],
   "source": []
  }
 ],
 "metadata": {
  "accelerator": "GPU",
  "colab": {
   "collapsed_sections": [],
   "name": "porto_seguro.ipynb",
   "provenance": [],
   "version": "0.3.2"
  },
  "kernelspec": {
   "display_name": "Python 3",
   "language": "python",
   "name": "python3"
  },
  "language_info": {
   "codemirror_mode": {
    "name": "ipython",
    "version": 3
   },
   "file_extension": ".py",
   "mimetype": "text/x-python",
   "name": "python",
   "nbconvert_exporter": "python",
   "pygments_lexer": "ipython3",
   "version": "3.6.6"
  }
 },
 "nbformat": 4,
 "nbformat_minor": 1
}
